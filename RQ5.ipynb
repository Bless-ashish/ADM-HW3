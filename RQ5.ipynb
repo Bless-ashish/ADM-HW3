{
 "cells": [
  {
   "cell_type": "code",
   "execution_count": 46,
   "id": "initial_id",
   "metadata": {
    "collapsed": true,
    "ExecuteTime": {
     "end_time": "2023-11-25T19:05:56.770181600Z",
     "start_time": "2023-11-25T19:05:56.658332800Z"
    }
   },
   "outputs": [],
   "source": [
    "# minimal packages to import\n",
    "import pandas as pd\n",
    "import numpy as np\n",
    "import json\n",
    "import matplotlib.pyplot as plt\n",
    "import nltk\n",
    "from nltk.corpus import stopwords\n",
    "from nltk.stem import *\n",
    "import string\n",
    "import re\n",
    "from tqdm import tqdm\n",
    "import pickle\n",
    "from sklearn.feature_extraction.text import TfidfVectorizer\n",
    "from sklearn.metrics.pairwise import cosine_similarity\n",
    "import spacy\n",
    "from nltk.tokenize import word_tokenize\n",
    "import regex as re\n",
    "import requests\n",
    "\n",
    "dir = r\"C:\\Users\\ahmad\\Downloads\\your_file.csv\"\n",
    "df_courses = pd.read_csv(dir)"
   ]
  },
  {
   "cell_type": "code",
   "execution_count": 47,
   "outputs": [
    {
     "name": "stderr",
     "output_type": "stream",
     "text": [
      "[nltk_data] Downloading package punkt to\n",
      "[nltk_data]     C:\\Users\\ahmad\\AppData\\Roaming\\nltk_data...\n",
      "[nltk_data]   Package punkt is already up-to-date!\n",
      "[nltk_data] Downloading package stopwords to\n",
      "[nltk_data]     C:\\Users\\ahmad\\AppData\\Roaming\\nltk_data...\n",
      "[nltk_data]   Package stopwords is already up-to-date!\n"
     ]
    },
    {
     "data": {
      "text/plain": "                                            Course Name  \\\n0              3D Design for Virtual Environments - MSc   \n1                          Accounting and Finance - MSc   \n2     Accounting, Accountability & Financial Managem...   \n3     Accounting, Financial Management and Digital B...   \n4                                        Addictions MSc   \n...                                                 ...   \n5995                              Materials Engineering   \n5996                          Materials Engineering MSc   \n5997              Materials Engineering MSc by Research   \n5998           Materials Engineering with Industry, MSc   \n5999           Materials for Energy and Environment MSc   \n\n                    University Name  \\\n0     Glasgow Caledonian University   \n1               University of Leeds   \n2             King’s College London   \n3             University of Reading   \n4             King’s College London   \n...                             ...   \n5995            University of Padua   \n5996             Swansea University   \n5997             Swansea University   \n5998             Swansea University   \n5999      University College London   \n\n                                           Faculty Name  \\\n0           School of Engineering and Built Environment   \n1                      Leeds University Business School   \n2                                King’s Business School   \n3                                Henley Business School   \n4     Institute of Psychiatry, Psychology and Neuros...   \n...                                                 ...   \n5995                              School of Engineering   \n5996         School of Engineering and Applied Sciences   \n5997         School of Engineering and Applied Sciences   \n5998         School of Engineering and Applied Sciences   \n5999                            Department of Chemistry   \n\n                                            Description  \\\n0     3D visualisation and animation play a role in ...   \n1     Businesses and governments rely on sound finan...   \n2     Our Accounting, Accountability & Financial Man...   \n3     Embark on a professional accounting career wit...   \n4     Join us for an online session for prospective ...   \n...                                                 ...   \n5995  The Master's degree Materials Engineering is a...   \n5996  The MSc in Materials Engineering provides you ...   \n5997  Swansea is one of the UK’s leading centres for...   \n5998  Our MSc in Materials Engineering with Industry...   \n5999  Register your interest in graduate study at UC...   \n\n                                                   Fees            Modality  \\\n0     Please see the university website for further ...                 MSc   \n1     UK: £18,000 (Total) International: £34,750 (To...                 MSc   \n2     Please see the university website for further ...                 MSc   \n3     Please see the university website for further ...                 MSc   \n4     Please see the university website for further ...                 MSc   \n...                                                 ...                 ...   \n5995  Our tuition fees will not exceed 2700 euros pe...                 MSc   \n5996  Please visit our website for the Materials Eng...                 MSc   \n5997  Please visit our website for the Materials Eng...  MSc, Research Only   \n5998  For current fees of the Materials Engineering ...                 MSc   \n5999                                Full time - £14,100                 MSc   \n\n                                               Duration     City  \\\n0                                      1 year full-time  Glasgow   \n1                                      1 year full time    Leeds   \n2                                             1 year FT   London   \n3                                      1 year full time  Reading   \n4                                           One year FT   London   \n...                                                 ...      ...   \n5995                                            2 years    Padua   \n5996  1 year full-time; 2 years part-time; 3 years p...  Swansea   \n5997                1 year full-time; 2 years part-time  Swansea   \n5998          2 Years Full Time With a Year In Industry  Swansea   \n5999                                   1 year full time   London   \n\n             Country                                               Link  \\\n0     United Kingdom  https://www.findamasters.com/masters-degrees/c...   \n1     United Kingdom  https://www.findamasters.com/masters-degrees/c...   \n2     United Kingdom  https://www.findamasters.com/masters-degrees/c...   \n3     United Kingdom  https://www.findamasters.com/masters-degrees/c...   \n4     United Kingdom  https://www.findamasters.com/masters-degrees/c...   \n...              ...                                                ...   \n5995           Italy  https://www.findamasters.com/masters-degrees/c...   \n5996  United Kingdom  https://www.findamasters.com/masters-degrees/c...   \n5997  United Kingdom  https://www.findamasters.com/masters-degrees/c...   \n5998  United Kingdom  https://www.findamasters.com/masters-degrees/c...   \n5999  United Kingdom  https://www.findamasters.com/masters-degrees/c...   \n\n     administration                                        descr_clean  \n0         On Campus  [3d, visualis, anim, play, role, mani, area, p...  \n1         On Campus  [busi, govern, reli, sound, financi, knowledg,...  \n2         On Campus  [account, account, financi, manag, msc, cours,...  \n3         On Campus  [embark, profession, account, career, academ, ...  \n4         On Campus  [join, us, onlin, session, prospect, student, ...  \n...             ...                                                ...  \n5995      On Campus  [master, degre, materi, engin, interdisciplina...  \n5996      On Campus  [msc, materi, engin, provid, deep, understand,...  \n5997      On Campus  [swansea, one, uk, lead, centr, materi, teach,...  \n5998      On Campus  [msc, materi, engin, industri, cours, open, in...  \n5999      On Campus  [regist, interest, graduat, studi, uclth, glob...  \n\n[6000 rows x 12 columns]",
      "text/html": "<div>\n<style scoped>\n    .dataframe tbody tr th:only-of-type {\n        vertical-align: middle;\n    }\n\n    .dataframe tbody tr th {\n        vertical-align: top;\n    }\n\n    .dataframe thead th {\n        text-align: right;\n    }\n</style>\n<table border=\"1\" class=\"dataframe\">\n  <thead>\n    <tr style=\"text-align: right;\">\n      <th></th>\n      <th>Course Name</th>\n      <th>University Name</th>\n      <th>Faculty Name</th>\n      <th>Description</th>\n      <th>Fees</th>\n      <th>Modality</th>\n      <th>Duration</th>\n      <th>City</th>\n      <th>Country</th>\n      <th>Link</th>\n      <th>administration</th>\n      <th>descr_clean</th>\n    </tr>\n  </thead>\n  <tbody>\n    <tr>\n      <th>0</th>\n      <td>3D Design for Virtual Environments - MSc</td>\n      <td>Glasgow Caledonian University</td>\n      <td>School of Engineering and Built Environment</td>\n      <td>3D visualisation and animation play a role in ...</td>\n      <td>Please see the university website for further ...</td>\n      <td>MSc</td>\n      <td>1 year full-time</td>\n      <td>Glasgow</td>\n      <td>United Kingdom</td>\n      <td>https://www.findamasters.com/masters-degrees/c...</td>\n      <td>On Campus</td>\n      <td>[3d, visualis, anim, play, role, mani, area, p...</td>\n    </tr>\n    <tr>\n      <th>1</th>\n      <td>Accounting and Finance - MSc</td>\n      <td>University of Leeds</td>\n      <td>Leeds University Business School</td>\n      <td>Businesses and governments rely on sound finan...</td>\n      <td>UK: £18,000 (Total) International: £34,750 (To...</td>\n      <td>MSc</td>\n      <td>1 year full time</td>\n      <td>Leeds</td>\n      <td>United Kingdom</td>\n      <td>https://www.findamasters.com/masters-degrees/c...</td>\n      <td>On Campus</td>\n      <td>[busi, govern, reli, sound, financi, knowledg,...</td>\n    </tr>\n    <tr>\n      <th>2</th>\n      <td>Accounting, Accountability &amp; Financial Managem...</td>\n      <td>King’s College London</td>\n      <td>King’s Business School</td>\n      <td>Our Accounting, Accountability &amp; Financial Man...</td>\n      <td>Please see the university website for further ...</td>\n      <td>MSc</td>\n      <td>1 year FT</td>\n      <td>London</td>\n      <td>United Kingdom</td>\n      <td>https://www.findamasters.com/masters-degrees/c...</td>\n      <td>On Campus</td>\n      <td>[account, account, financi, manag, msc, cours,...</td>\n    </tr>\n    <tr>\n      <th>3</th>\n      <td>Accounting, Financial Management and Digital B...</td>\n      <td>University of Reading</td>\n      <td>Henley Business School</td>\n      <td>Embark on a professional accounting career wit...</td>\n      <td>Please see the university website for further ...</td>\n      <td>MSc</td>\n      <td>1 year full time</td>\n      <td>Reading</td>\n      <td>United Kingdom</td>\n      <td>https://www.findamasters.com/masters-degrees/c...</td>\n      <td>On Campus</td>\n      <td>[embark, profession, account, career, academ, ...</td>\n    </tr>\n    <tr>\n      <th>4</th>\n      <td>Addictions MSc</td>\n      <td>King’s College London</td>\n      <td>Institute of Psychiatry, Psychology and Neuros...</td>\n      <td>Join us for an online session for prospective ...</td>\n      <td>Please see the university website for further ...</td>\n      <td>MSc</td>\n      <td>One year FT</td>\n      <td>London</td>\n      <td>United Kingdom</td>\n      <td>https://www.findamasters.com/masters-degrees/c...</td>\n      <td>On Campus</td>\n      <td>[join, us, onlin, session, prospect, student, ...</td>\n    </tr>\n    <tr>\n      <th>...</th>\n      <td>...</td>\n      <td>...</td>\n      <td>...</td>\n      <td>...</td>\n      <td>...</td>\n      <td>...</td>\n      <td>...</td>\n      <td>...</td>\n      <td>...</td>\n      <td>...</td>\n      <td>...</td>\n      <td>...</td>\n    </tr>\n    <tr>\n      <th>5995</th>\n      <td>Materials Engineering</td>\n      <td>University of Padua</td>\n      <td>School of Engineering</td>\n      <td>The Master's degree Materials Engineering is a...</td>\n      <td>Our tuition fees will not exceed 2700 euros pe...</td>\n      <td>MSc</td>\n      <td>2 years</td>\n      <td>Padua</td>\n      <td>Italy</td>\n      <td>https://www.findamasters.com/masters-degrees/c...</td>\n      <td>On Campus</td>\n      <td>[master, degre, materi, engin, interdisciplina...</td>\n    </tr>\n    <tr>\n      <th>5996</th>\n      <td>Materials Engineering MSc</td>\n      <td>Swansea University</td>\n      <td>School of Engineering and Applied Sciences</td>\n      <td>The MSc in Materials Engineering provides you ...</td>\n      <td>Please visit our website for the Materials Eng...</td>\n      <td>MSc</td>\n      <td>1 year full-time; 2 years part-time; 3 years p...</td>\n      <td>Swansea</td>\n      <td>United Kingdom</td>\n      <td>https://www.findamasters.com/masters-degrees/c...</td>\n      <td>On Campus</td>\n      <td>[msc, materi, engin, provid, deep, understand,...</td>\n    </tr>\n    <tr>\n      <th>5997</th>\n      <td>Materials Engineering MSc by Research</td>\n      <td>Swansea University</td>\n      <td>School of Engineering and Applied Sciences</td>\n      <td>Swansea is one of the UK’s leading centres for...</td>\n      <td>Please visit our website for the Materials Eng...</td>\n      <td>MSc, Research Only</td>\n      <td>1 year full-time; 2 years part-time</td>\n      <td>Swansea</td>\n      <td>United Kingdom</td>\n      <td>https://www.findamasters.com/masters-degrees/c...</td>\n      <td>On Campus</td>\n      <td>[swansea, one, uk, lead, centr, materi, teach,...</td>\n    </tr>\n    <tr>\n      <th>5998</th>\n      <td>Materials Engineering with Industry, MSc</td>\n      <td>Swansea University</td>\n      <td>School of Engineering and Applied Sciences</td>\n      <td>Our MSc in Materials Engineering with Industry...</td>\n      <td>For current fees of the Materials Engineering ...</td>\n      <td>MSc</td>\n      <td>2 Years Full Time With a Year In Industry</td>\n      <td>Swansea</td>\n      <td>United Kingdom</td>\n      <td>https://www.findamasters.com/masters-degrees/c...</td>\n      <td>On Campus</td>\n      <td>[msc, materi, engin, industri, cours, open, in...</td>\n    </tr>\n    <tr>\n      <th>5999</th>\n      <td>Materials for Energy and Environment MSc</td>\n      <td>University College London</td>\n      <td>Department of Chemistry</td>\n      <td>Register your interest in graduate study at UC...</td>\n      <td>Full time - £14,100</td>\n      <td>MSc</td>\n      <td>1 year full time</td>\n      <td>London</td>\n      <td>United Kingdom</td>\n      <td>https://www.findamasters.com/masters-degrees/c...</td>\n      <td>On Campus</td>\n      <td>[regist, interest, graduat, studi, uclth, glob...</td>\n    </tr>\n  </tbody>\n</table>\n<p>6000 rows × 12 columns</p>\n</div>"
     },
     "execution_count": 47,
     "metadata": {},
     "output_type": "execute_result"
    }
   ],
   "source": [
    "# Download NLTK resources\n",
    "nltk.download('punkt')\n",
    "nltk.download('stopwords')\n",
    "\n",
    "# Load SnowballStemmer\n",
    "snowstem = SnowballStemmer('english')\n",
    "\n",
    "# Load stopwords to filter\n",
    "lst_stopwords = set(stopwords.words('english'))\n",
    "\n",
    "# Define the function to preprocess text\n",
    "def preprocess_text(text):\n",
    "    # Convert to lowercase this is because for some reason it wasn't elimination from stopword the word 'the' when starting with an uppercase\n",
    "    text_lower = text.lower()\n",
    "\n",
    "    # Tokenize, stem words, remove punctuation and remove stopwords\n",
    "    stemmed_words = [snowstem.stem(word) for word in nltk.word_tokenize(text_lower) if not word in lst_stopwords and word.isalnum()]\n",
    "\n",
    "    return stemmed_words\n",
    "\n",
    "# Create column named 'descr_clean' and then apply preprocess_text to the 'Description' column in df_courses\n",
    "df_courses['descr_clean'] = df_courses['Description'].apply(preprocess_text)\n",
    "\n",
    "df_courses"
   ],
   "metadata": {
    "collapsed": false,
    "ExecuteTime": {
     "end_time": "2023-11-25T19:06:05.343201400Z",
     "start_time": "2023-11-25T19:05:57.031191500Z"
    }
   },
   "id": "62b9835aadf6f46f"
  },
  {
   "cell_type": "code",
   "execution_count": 48,
   "outputs": [],
   "source": [
    "# Get a dictionary with exchange rates where GBP is the base currency you want to use\n",
    "# I saved the API key in another text file. There is no need to do it in this case but I thought it could be good practice\n",
    "\n",
    "# Read API key from the file\n",
    "with open(r\"C:\\Users\\ahmad\\Desktop\\sap\\adm\\HW3\\API KEY\\API KEY.txt\", 'r') as api_key_file:\n",
    "    api_key = api_key_file.read().strip()\n",
    "\n",
    "# URL with the API key\n",
    "url = f'https://v6.exchangerate-api.com/v6/{api_key}/latest/GBP'\n",
    "\n",
    "# Making our request for the conversion rates\n",
    "response = requests.get(url)\n",
    "data_exchange = response.json()\n",
    "\n",
    "with open('data_exchange.json', 'w') as json_file:\n",
    "    json.dump(data_exchange, json_file)\n",
    "\n",
    "# Read the JSON data from the file\n",
    "with open('data_exchange.json', 'r') as json_file:\n",
    "    loaded_data = json.load(json_file)\n",
    "\n",
    "# Convert the 'result' column to a Pandas DataFrame\n",
    "df = pd.DataFrame(loaded_data)\n",
    "\n",
    "# Extract only the 'conversion_rates' column\n",
    "conversion_rates = df['conversion_rates']"
   ],
   "metadata": {
    "collapsed": false,
    "ExecuteTime": {
     "end_time": "2023-11-25T19:06:05.951891200Z",
     "start_time": "2023-11-25T19:06:05.346184800Z"
    }
   },
   "id": "c002baa931698294"
  },
  {
   "cell_type": "code",
   "execution_count": 49,
   "outputs": [
    {
     "data": {
      "text/plain": "                                            Course Name  \\\n1                          Accounting and Finance - MSc   \n5                   Advanced Chemical Engineering - MSc   \n7     Agricultural Sciences - MSc (Agriculture and F...   \n8     Agricultural, Environmental and Resource Econo...   \n9                           Air Quality Solutions - MSc   \n...                                                 ...   \n5983         Master's of Financial Technology (Fintech)   \n5984                  Master's of Front-end Development   \n5992              Materials and Molecular Modelling MSc   \n5995                              Materials Engineering   \n5999           Materials for Energy and Environment MSc   \n\n                University Name                                Faculty Name  \\\n1           University of Leeds            Leeds University Business School   \n5           University of Leeds  School of Chemical and Process Engineering   \n7        University of Helsinki     International Masters Degree Programmes   \n8        University of Helsinki     International Masters Degree Programmes   \n9           University of Leeds             Institute for Transport Studies   \n...                         ...                                         ...   \n5983   Harbour.Space University                          Masters Programmes   \n5984   Harbour.Space University                          Masters Programmes   \n5992  University College London                     Department of Chemistry   \n5995        University of Padua                       School of Engineering   \n5999  University College London                     Department of Chemistry   \n\n                                            Description  \\\n1     Businesses and governments rely on sound finan...   \n5     The Advanced Chemical Engineering MSc at Leeds...   \n7     Goal of the pro­grammeWould you like to be inv...   \n8     Goal of the pro­grammeAre you looking forward ...   \n9     Up to 7 million people are estimated to die ev...   \n...                                                 ...   \n5983  Harbour.Space's FinTech Master programme is de...   \n5984  Front-end Development at Harbour.Space Univers...   \n5992  Register your interest in graduate study at UC...   \n5995  The Master's degree Materials Engineering is a...   \n5999  Register your interest in graduate study at UC...   \n\n                                                   Fees  Modality  \\\n1     UK: £18,000 (Total) International: £34,750 (To...       MSc   \n5     UK: £13,750 (Total) International: £31,000 (To...       MSc   \n7     Tuition fee per year (non-EU/EEA students): 15...       MSc   \n8     Tuition fee per year (non-EU/EEA students): 15...       MSc   \n9     UK: £12,500 (Total) International: £28,750 (To...       MSc   \n...                                                 ...       ...   \n5983                                       €29,900/year  MBA, MSc   \n5984                                       €29,900/year       MSc   \n5992                                Full time - £14,100       MSc   \n5995  Our tuition fees will not exceed 2700 euros pe...       MSc   \n5999                                Full time - £14,100       MSc   \n\n                                      Duration       City         Country  \\\n1                             1 year full time      Leeds  United Kingdom   \n5                             1 year full time      Leeds  United Kingdom   \n7                                      2 years   Helsinki         Finland   \n8                                      2 years   Helsinki         Finland   \n9     1 year full time, 2 or 3 years part-time      Leeds  United Kingdom   \n...                                        ...        ...             ...   \n5983                                    1 Year  Barcelona           Spain   \n5984                                    1 year  Barcelona           Spain   \n5992                          1 year full time     London  United Kingdom   \n5995                                   2 years      Padua           Italy   \n5999                          1 year full time     London  United Kingdom   \n\n                                                   Link administration  \\\n1     https://www.findamasters.com/masters-degrees/c...      On Campus   \n5     https://www.findamasters.com/masters-degrees/c...      On Campus   \n7     https://www.findamasters.com/masters-degrees/c...      On Campus   \n8     https://www.findamasters.com/masters-degrees/c...      On Campus   \n9     https://www.findamasters.com/masters-degrees/c...      On Campus   \n...                                                 ...            ...   \n5983  https://www.findamasters.com/masters-degrees/c...      On Campus   \n5984  https://www.findamasters.com/masters-degrees/c...      On Campus   \n5992  https://www.findamasters.com/masters-degrees/c...      On Campus   \n5995  https://www.findamasters.com/masters-degrees/c...      On Campus   \n5999  https://www.findamasters.com/masters-degrees/c...      On Campus   \n\n                                            descr_clean  fees (£)  \n1     [busi, govern, reli, sound, financi, knowledg,...  34750.00  \n5     [advanc, chemic, engin, msc, leed, build, core...  31000.00  \n7     [goal, like, involv, find, solut, futur, chall...  13026.49  \n8     [goal, look, forward, futur, expert, agricultu...  13026.49  \n9     [7, million, peopl, estim, die, everi, year, d...  28750.00  \n...                                                 ...       ...  \n5983  [fintech, master, programm, design, prepar, gr...  25966.13  \n5984  [develop, univers, provid, uniqu, environ, stu...  25966.13  \n5992  [regist, interest, graduat, studi, uclther, gr...  14100.00  \n5995  [master, degre, materi, engin, interdisciplina...   2344.77  \n5999  [regist, interest, graduat, studi, uclth, glob...  14100.00  \n\n[1354 rows x 13 columns]",
      "text/html": "<div>\n<style scoped>\n    .dataframe tbody tr th:only-of-type {\n        vertical-align: middle;\n    }\n\n    .dataframe tbody tr th {\n        vertical-align: top;\n    }\n\n    .dataframe thead th {\n        text-align: right;\n    }\n</style>\n<table border=\"1\" class=\"dataframe\">\n  <thead>\n    <tr style=\"text-align: right;\">\n      <th></th>\n      <th>Course Name</th>\n      <th>University Name</th>\n      <th>Faculty Name</th>\n      <th>Description</th>\n      <th>Fees</th>\n      <th>Modality</th>\n      <th>Duration</th>\n      <th>City</th>\n      <th>Country</th>\n      <th>Link</th>\n      <th>administration</th>\n      <th>descr_clean</th>\n      <th>fees (£)</th>\n    </tr>\n  </thead>\n  <tbody>\n    <tr>\n      <th>1</th>\n      <td>Accounting and Finance - MSc</td>\n      <td>University of Leeds</td>\n      <td>Leeds University Business School</td>\n      <td>Businesses and governments rely on sound finan...</td>\n      <td>UK: £18,000 (Total) International: £34,750 (To...</td>\n      <td>MSc</td>\n      <td>1 year full time</td>\n      <td>Leeds</td>\n      <td>United Kingdom</td>\n      <td>https://www.findamasters.com/masters-degrees/c...</td>\n      <td>On Campus</td>\n      <td>[busi, govern, reli, sound, financi, knowledg,...</td>\n      <td>34750.00</td>\n    </tr>\n    <tr>\n      <th>5</th>\n      <td>Advanced Chemical Engineering - MSc</td>\n      <td>University of Leeds</td>\n      <td>School of Chemical and Process Engineering</td>\n      <td>The Advanced Chemical Engineering MSc at Leeds...</td>\n      <td>UK: £13,750 (Total) International: £31,000 (To...</td>\n      <td>MSc</td>\n      <td>1 year full time</td>\n      <td>Leeds</td>\n      <td>United Kingdom</td>\n      <td>https://www.findamasters.com/masters-degrees/c...</td>\n      <td>On Campus</td>\n      <td>[advanc, chemic, engin, msc, leed, build, core...</td>\n      <td>31000.00</td>\n    </tr>\n    <tr>\n      <th>7</th>\n      <td>Agricultural Sciences - MSc (Agriculture and F...</td>\n      <td>University of Helsinki</td>\n      <td>International Masters Degree Programmes</td>\n      <td>Goal of the pro­grammeWould you like to be inv...</td>\n      <td>Tuition fee per year (non-EU/EEA students): 15...</td>\n      <td>MSc</td>\n      <td>2 years</td>\n      <td>Helsinki</td>\n      <td>Finland</td>\n      <td>https://www.findamasters.com/masters-degrees/c...</td>\n      <td>On Campus</td>\n      <td>[goal, like, involv, find, solut, futur, chall...</td>\n      <td>13026.49</td>\n    </tr>\n    <tr>\n      <th>8</th>\n      <td>Agricultural, Environmental and Resource Econo...</td>\n      <td>University of Helsinki</td>\n      <td>International Masters Degree Programmes</td>\n      <td>Goal of the pro­grammeAre you looking forward ...</td>\n      <td>Tuition fee per year (non-EU/EEA students): 15...</td>\n      <td>MSc</td>\n      <td>2 years</td>\n      <td>Helsinki</td>\n      <td>Finland</td>\n      <td>https://www.findamasters.com/masters-degrees/c...</td>\n      <td>On Campus</td>\n      <td>[goal, look, forward, futur, expert, agricultu...</td>\n      <td>13026.49</td>\n    </tr>\n    <tr>\n      <th>9</th>\n      <td>Air Quality Solutions - MSc</td>\n      <td>University of Leeds</td>\n      <td>Institute for Transport Studies</td>\n      <td>Up to 7 million people are estimated to die ev...</td>\n      <td>UK: £12,500 (Total) International: £28,750 (To...</td>\n      <td>MSc</td>\n      <td>1 year full time, 2 or 3 years part-time</td>\n      <td>Leeds</td>\n      <td>United Kingdom</td>\n      <td>https://www.findamasters.com/masters-degrees/c...</td>\n      <td>On Campus</td>\n      <td>[7, million, peopl, estim, die, everi, year, d...</td>\n      <td>28750.00</td>\n    </tr>\n    <tr>\n      <th>...</th>\n      <td>...</td>\n      <td>...</td>\n      <td>...</td>\n      <td>...</td>\n      <td>...</td>\n      <td>...</td>\n      <td>...</td>\n      <td>...</td>\n      <td>...</td>\n      <td>...</td>\n      <td>...</td>\n      <td>...</td>\n      <td>...</td>\n    </tr>\n    <tr>\n      <th>5983</th>\n      <td>Master's of Financial Technology (Fintech)</td>\n      <td>Harbour.Space University</td>\n      <td>Masters Programmes</td>\n      <td>Harbour.Space's FinTech Master programme is de...</td>\n      <td>€29,900/year</td>\n      <td>MBA, MSc</td>\n      <td>1 Year</td>\n      <td>Barcelona</td>\n      <td>Spain</td>\n      <td>https://www.findamasters.com/masters-degrees/c...</td>\n      <td>On Campus</td>\n      <td>[fintech, master, programm, design, prepar, gr...</td>\n      <td>25966.13</td>\n    </tr>\n    <tr>\n      <th>5984</th>\n      <td>Master's of Front-end Development</td>\n      <td>Harbour.Space University</td>\n      <td>Masters Programmes</td>\n      <td>Front-end Development at Harbour.Space Univers...</td>\n      <td>€29,900/year</td>\n      <td>MSc</td>\n      <td>1 year</td>\n      <td>Barcelona</td>\n      <td>Spain</td>\n      <td>https://www.findamasters.com/masters-degrees/c...</td>\n      <td>On Campus</td>\n      <td>[develop, univers, provid, uniqu, environ, stu...</td>\n      <td>25966.13</td>\n    </tr>\n    <tr>\n      <th>5992</th>\n      <td>Materials and Molecular Modelling MSc</td>\n      <td>University College London</td>\n      <td>Department of Chemistry</td>\n      <td>Register your interest in graduate study at UC...</td>\n      <td>Full time - £14,100</td>\n      <td>MSc</td>\n      <td>1 year full time</td>\n      <td>London</td>\n      <td>United Kingdom</td>\n      <td>https://www.findamasters.com/masters-degrees/c...</td>\n      <td>On Campus</td>\n      <td>[regist, interest, graduat, studi, uclther, gr...</td>\n      <td>14100.00</td>\n    </tr>\n    <tr>\n      <th>5995</th>\n      <td>Materials Engineering</td>\n      <td>University of Padua</td>\n      <td>School of Engineering</td>\n      <td>The Master's degree Materials Engineering is a...</td>\n      <td>Our tuition fees will not exceed 2700 euros pe...</td>\n      <td>MSc</td>\n      <td>2 years</td>\n      <td>Padua</td>\n      <td>Italy</td>\n      <td>https://www.findamasters.com/masters-degrees/c...</td>\n      <td>On Campus</td>\n      <td>[master, degre, materi, engin, interdisciplina...</td>\n      <td>2344.77</td>\n    </tr>\n    <tr>\n      <th>5999</th>\n      <td>Materials for Energy and Environment MSc</td>\n      <td>University College London</td>\n      <td>Department of Chemistry</td>\n      <td>Register your interest in graduate study at UC...</td>\n      <td>Full time - £14,100</td>\n      <td>MSc</td>\n      <td>1 year full time</td>\n      <td>London</td>\n      <td>United Kingdom</td>\n      <td>https://www.findamasters.com/masters-degrees/c...</td>\n      <td>On Campus</td>\n      <td>[regist, interest, graduat, studi, uclth, glob...</td>\n      <td>14100.00</td>\n    </tr>\n  </tbody>\n</table>\n<p>1354 rows × 13 columns</p>\n</div>"
     },
     "execution_count": 49,
     "metadata": {},
     "output_type": "execute_result"
    }
   ],
   "source": [
    "# Defined a function to select the maximum fee from a list of fees\n",
    "def max_value_fee(list_fees):\n",
    "    filtered_fee_list = [int(fee) for fee in list_fees]\n",
    "    if filtered_fee_list:\n",
    "        max_fee = max(filtered_fee_list)\n",
    "        max_fee = float(max_fee)\n",
    "    else:\n",
    "        # If the list is empty, set max_fee to None\n",
    "        max_fee = None\n",
    "    return max_fee\n",
    "\n",
    "# Define a function to remove dots and commas from numbers in a string\n",
    "def remove_dots_from_numbers(input_string):\n",
    "    # Use regular expression to find numbers with dots or commas and remove the dots or commas\n",
    "    result_string = re.sub(r'(\\d)[.,](\\d{3})', r'\\1\\2', input_string)\n",
    "    return result_string\n",
    "\n",
    "# Iterate over each row in df_courses\n",
    "for index, row in df_courses.iterrows():\n",
    "    # Extract the 'Fees' column as a string\n",
    "    fees_string = str(row['Fees'])\n",
    "\n",
    "    # Remove dots from numbers and specific year strings (These years tend to create problems)\n",
    "    fees_string = remove_dots_from_numbers(fees_string)\n",
    "    fees_string = fees_string.replace(\"2022\", '').replace(\"2023\", '').replace(\"2024\", '')\n",
    "\n",
    "    # Remove various punctuation, spaces, and special characters\n",
    "    fees_string = fees_string.replace(\".00 \", '').replace(\".00€ \", '').replace(\",00 \", '').replace(\",00€ \", '').replace(\".0 \", '').replace(\",0 \", '').replace('.', '').replace(',', '').replace(\"'\", '').replace(\" \", '')\n",
    "\n",
    "    # Use regular expression to find currency symbols or codes ISO 4217 for all currencies (Those are the once that are used in our conversion_rates variable)\n",
    "    matches_cur = re.findall(r'HKD(?:s)?|HK(?:s)?|\\p{Sc}|euro(?:s)?|dollar(?:s)?|pound(?:s)?|EUR(?:s)?|USD(?:s)?|CHF(?:s)?|SEK(?:s)?|ISK(?:s)?|RMB(?:s)?|QR(?:s)?|GBP(?:s)?|QAR(?:s)?|JPY(?:s)?', fees_string, flags=re.IGNORECASE)\n",
    "\n",
    "    # Use regular expression to find fees (excluding specific years) in the cleaned string\n",
    "    matches_fee = re.findall(r'(?!2021|2022|2023|2024)\\d{4,}', fees_string)\n",
    "    # Call the max_value_fee function to get the maximum fee\n",
    "    fees_float = max_value_fee(matches_fee)\n",
    "\n",
    "    # Check if currency matches and assign the corresponding ISO 4217 code for all currencies (Those are the once that are used in our conversion_rates variable)\n",
    "    if matches_cur:\n",
    "        currency = None\n",
    "        if matches_cur[0] == 'euro' or matches_cur[0] == 'euros' or matches_cur[0] == '€' or matches_cur[0] == 'EURs' or matches_cur[0] == 'Eur' or matches_cur[0] == 'Euros' or matches_cur[0] == 'EUROS' or matches_cur[0] == 'eurs'or matches_cur[0] == 'Euro':\n",
    "            currency = 'EUR'\n",
    "        elif matches_cur[0] == 'dollar' or matches_cur[0] == 'dollars' or matches_cur[0] == '$':\n",
    "            currency = 'USD'\n",
    "        elif matches_cur[0] == 'pound' or matches_cur[0] == 'pounds' or matches_cur[0] == '£':\n",
    "            currency = 'GBP'\n",
    "        elif matches_cur[0] == 'RMB':\n",
    "            currency = 'CNY'\n",
    "        elif matches_cur[0] == 'QR':\n",
    "            currency = 'QAR'\n",
    "        elif matches_cur[0] == 'HK':\n",
    "            currency = 'HKD'\n",
    "        else:\n",
    "            currency = matches_cur[0]\n",
    "    else:\n",
    "        currency = None\n",
    "    # Initialize fees_pound as None\n",
    "    fees_pound = None\n",
    "\n",
    "    # Check if fees_float is not None and less than 100000 before rounding and conversion (fees (£) above 100000 are due to super specific errors, less than 10 which are more reasonable to deal in this way)\n",
    "    if fees_float is not None and fees_float < 100000:\n",
    "        fees_pound = round(fees_float / conversion_rates.get(currency, 1.0), 2)\n",
    "\n",
    "    # Assign the calculated fees in pounds to the 'fees (£)' column\n",
    "    df_courses.at[index, 'fees (£)'] = fees_pound\n",
    "\n",
    "# Filter the df_cources to include only rows where 'fees (£)' is not null\n",
    "filtered_df = df_courses[(df_courses['fees (£)'].notnull())]\n",
    "filtered_df\n"
   ],
   "metadata": {
    "collapsed": false,
    "ExecuteTime": {
     "end_time": "2023-11-25T19:06:07.157280200Z",
     "start_time": "2023-11-25T19:06:05.974139300Z"
    }
   },
   "id": "7c002b2f36d30afd"
  },
  {
   "cell_type": "code",
   "execution_count": 5,
   "outputs": [],
   "source": [
    "df_courses = pd.DataFrame(df_courses)"
   ],
   "metadata": {
    "collapsed": false
   },
   "id": "11ea2555141c38be"
  },
  {
   "cell_type": "code",
   "execution_count": 50,
   "outputs": [
    {
     "data": {
      "text/plain": "                                            Course Name  \\\n0               3D Design for Virtual Environments  MSc   \n1                           Accounting and Finance  MSc   \n2     Accounting, Accountability & Financial Managem...   \n3     Accounting, Financial Management and Digital B...   \n4                                        Addictions MSc   \n...                                                 ...   \n5995                              Materials Engineering   \n5996                          Materials Engineering MSc   \n5997              Materials Engineering MSc by Research   \n5998           Materials Engineering with Industry, MSc   \n5999           Materials for Energy and Environment MSc   \n\n                    University Name  \\\n0     Glasgow Caledonian University   \n1               University of Leeds   \n2             King’s College London   \n3             University of Reading   \n4             King’s College London   \n...                             ...   \n5995            University of Padua   \n5996             Swansea University   \n5997             Swansea University   \n5998             Swansea University   \n5999      University College London   \n\n                                           Faculty Name  \\\n0           School of Engineering and Built Environment   \n1                      Leeds University Business School   \n2                                King’s Business School   \n3                                Henley Business School   \n4     Institute of Psychiatry, Psychology and Neuros...   \n...                                                 ...   \n5995                              School of Engineering   \n5996         School of Engineering and Applied Sciences   \n5997         School of Engineering and Applied Sciences   \n5998         School of Engineering and Applied Sciences   \n5999                            Department of Chemistry   \n\n                                            Description  \\\n0     3D visualisation and animation play a role in ...   \n1     Businesses and governments rely on sound finan...   \n2     Our Accounting, Accountability & Financial Man...   \n3     Embark on a professional accounting career wit...   \n4     Join us for an online session for prospective ...   \n...                                                 ...   \n5995  The Master's degree Materials Engineering is a...   \n5996  The MSc in Materials Engineering provides you ...   \n5997  Swansea is one of the UK’s leading centres for...   \n5998  Our MSc in Materials Engineering with Industry...   \n5999  Register your interest in graduate study at UC...   \n\n                                                   Fees            Modality  \\\n0     Please see the university website for further ...                 MSc   \n1     UK: £18,000 (Total) International: £34,750 (To...                 MSc   \n2     Please see the university website for further ...                 MSc   \n3     Please see the university website for further ...                 MSc   \n4     Please see the university website for further ...                 MSc   \n...                                                 ...                 ...   \n5995  Our tuition fees will not exceed 2700 euros pe...                 MSc   \n5996  Please visit our website for the Materials Eng...                 MSc   \n5997  Please visit our website for the Materials Eng...  MSc, Research Only   \n5998  For current fees of the Materials Engineering ...                 MSc   \n5999                                Full time - £14,100                 MSc   \n\n                                               Duration     City  \\\n0                                      1 year full-time  Glasgow   \n1                                      1 year full time    Leeds   \n2                                             1 year FT   London   \n3                                      1 year full time  Reading   \n4                                           One year FT   London   \n...                                                 ...      ...   \n5995                                            2 years    Padua   \n5996  1 year full-time; 2 years part-time; 3 years p...  Swansea   \n5997                1 year full-time; 2 years part-time  Swansea   \n5998          2 Years Full Time With a Year In Industry  Swansea   \n5999                                   1 year full time   London   \n\n             Country                                               Link  \\\n0     United Kingdom  https://www.findamasters.com/masters-degrees/c...   \n1     United Kingdom  https://www.findamasters.com/masters-degrees/c...   \n2     United Kingdom  https://www.findamasters.com/masters-degrees/c...   \n3     United Kingdom  https://www.findamasters.com/masters-degrees/c...   \n4     United Kingdom  https://www.findamasters.com/masters-degrees/c...   \n...              ...                                                ...   \n5995           Italy  https://www.findamasters.com/masters-degrees/c...   \n5996  United Kingdom  https://www.findamasters.com/masters-degrees/c...   \n5997  United Kingdom  https://www.findamasters.com/masters-degrees/c...   \n5998  United Kingdom  https://www.findamasters.com/masters-degrees/c...   \n5999  United Kingdom  https://www.findamasters.com/masters-degrees/c...   \n\n     administration                                        descr_clean  \\\n0         On Campus  [3d, visualis, anim, play, role, mani, area, p...   \n1         On Campus  [busi, govern, reli, sound, financi, knowledg,...   \n2         On Campus  [account, account, financi, manag, msc, cours,...   \n3         On Campus  [embark, profession, account, career, academ, ...   \n4         On Campus  [join, us, onlin, session, prospect, student, ...   \n...             ...                                                ...   \n5995      On Campus  [master, degre, materi, engin, interdisciplina...   \n5996      On Campus  [msc, materi, engin, provid, deep, understand,...   \n5997      On Campus  [swansea, one, uk, lead, centr, materi, teach,...   \n5998      On Campus  [msc, materi, engin, industri, cours, open, in...   \n5999      On Campus  [regist, interest, graduat, studi, uclth, glob...   \n\n      fees (£)                                   coursename_clean  \\\n0          NaN      [3d, design, for, virtual, environments, msc]   \n1     34750.00                    [accounting, and, finance, msc]   \n2          NaN  [accounting,, accountability, &, financial, ma...   \n3          NaN  [accounting,, financial, management, and, digi...   \n4          NaN                                  [addictions, msc]   \n...        ...                                                ...   \n5995   2344.77                           [materials, engineering]   \n5996       NaN                      [materials, engineering, msc]   \n5997       NaN        [materials, engineering, msc, by, research]   \n5998       NaN     [materials, engineering, with, industry,, msc]   \n5999  14100.00    [materials, for, energy, and, environment, msc]   \n\n                     uni_name_clean city_lowered  \n0     glasgow caledonian university      glasgow  \n1               university of leeds        leeds  \n2             king’s college london       london  \n3             university of reading      reading  \n4             king’s college london       london  \n...                             ...          ...  \n5995            university of padua        padua  \n5996             swansea university      swansea  \n5997             swansea university      swansea  \n5998             swansea university      swansea  \n5999      university college london       london  \n\n[6000 rows x 16 columns]",
      "text/html": "<div>\n<style scoped>\n    .dataframe tbody tr th:only-of-type {\n        vertical-align: middle;\n    }\n\n    .dataframe tbody tr th {\n        vertical-align: top;\n    }\n\n    .dataframe thead th {\n        text-align: right;\n    }\n</style>\n<table border=\"1\" class=\"dataframe\">\n  <thead>\n    <tr style=\"text-align: right;\">\n      <th></th>\n      <th>Course Name</th>\n      <th>University Name</th>\n      <th>Faculty Name</th>\n      <th>Description</th>\n      <th>Fees</th>\n      <th>Modality</th>\n      <th>Duration</th>\n      <th>City</th>\n      <th>Country</th>\n      <th>Link</th>\n      <th>administration</th>\n      <th>descr_clean</th>\n      <th>fees (£)</th>\n      <th>coursename_clean</th>\n      <th>uni_name_clean</th>\n      <th>city_lowered</th>\n    </tr>\n  </thead>\n  <tbody>\n    <tr>\n      <th>0</th>\n      <td>3D Design for Virtual Environments  MSc</td>\n      <td>Glasgow Caledonian University</td>\n      <td>School of Engineering and Built Environment</td>\n      <td>3D visualisation and animation play a role in ...</td>\n      <td>Please see the university website for further ...</td>\n      <td>MSc</td>\n      <td>1 year full-time</td>\n      <td>Glasgow</td>\n      <td>United Kingdom</td>\n      <td>https://www.findamasters.com/masters-degrees/c...</td>\n      <td>On Campus</td>\n      <td>[3d, visualis, anim, play, role, mani, area, p...</td>\n      <td>NaN</td>\n      <td>[3d, design, for, virtual, environments, msc]</td>\n      <td>glasgow caledonian university</td>\n      <td>glasgow</td>\n    </tr>\n    <tr>\n      <th>1</th>\n      <td>Accounting and Finance  MSc</td>\n      <td>University of Leeds</td>\n      <td>Leeds University Business School</td>\n      <td>Businesses and governments rely on sound finan...</td>\n      <td>UK: £18,000 (Total) International: £34,750 (To...</td>\n      <td>MSc</td>\n      <td>1 year full time</td>\n      <td>Leeds</td>\n      <td>United Kingdom</td>\n      <td>https://www.findamasters.com/masters-degrees/c...</td>\n      <td>On Campus</td>\n      <td>[busi, govern, reli, sound, financi, knowledg,...</td>\n      <td>34750.00</td>\n      <td>[accounting, and, finance, msc]</td>\n      <td>university of leeds</td>\n      <td>leeds</td>\n    </tr>\n    <tr>\n      <th>2</th>\n      <td>Accounting, Accountability &amp; Financial Managem...</td>\n      <td>King’s College London</td>\n      <td>King’s Business School</td>\n      <td>Our Accounting, Accountability &amp; Financial Man...</td>\n      <td>Please see the university website for further ...</td>\n      <td>MSc</td>\n      <td>1 year FT</td>\n      <td>London</td>\n      <td>United Kingdom</td>\n      <td>https://www.findamasters.com/masters-degrees/c...</td>\n      <td>On Campus</td>\n      <td>[account, account, financi, manag, msc, cours,...</td>\n      <td>NaN</td>\n      <td>[accounting,, accountability, &amp;, financial, ma...</td>\n      <td>king’s college london</td>\n      <td>london</td>\n    </tr>\n    <tr>\n      <th>3</th>\n      <td>Accounting, Financial Management and Digital B...</td>\n      <td>University of Reading</td>\n      <td>Henley Business School</td>\n      <td>Embark on a professional accounting career wit...</td>\n      <td>Please see the university website for further ...</td>\n      <td>MSc</td>\n      <td>1 year full time</td>\n      <td>Reading</td>\n      <td>United Kingdom</td>\n      <td>https://www.findamasters.com/masters-degrees/c...</td>\n      <td>On Campus</td>\n      <td>[embark, profession, account, career, academ, ...</td>\n      <td>NaN</td>\n      <td>[accounting,, financial, management, and, digi...</td>\n      <td>university of reading</td>\n      <td>reading</td>\n    </tr>\n    <tr>\n      <th>4</th>\n      <td>Addictions MSc</td>\n      <td>King’s College London</td>\n      <td>Institute of Psychiatry, Psychology and Neuros...</td>\n      <td>Join us for an online session for prospective ...</td>\n      <td>Please see the university website for further ...</td>\n      <td>MSc</td>\n      <td>One year FT</td>\n      <td>London</td>\n      <td>United Kingdom</td>\n      <td>https://www.findamasters.com/masters-degrees/c...</td>\n      <td>On Campus</td>\n      <td>[join, us, onlin, session, prospect, student, ...</td>\n      <td>NaN</td>\n      <td>[addictions, msc]</td>\n      <td>king’s college london</td>\n      <td>london</td>\n    </tr>\n    <tr>\n      <th>...</th>\n      <td>...</td>\n      <td>...</td>\n      <td>...</td>\n      <td>...</td>\n      <td>...</td>\n      <td>...</td>\n      <td>...</td>\n      <td>...</td>\n      <td>...</td>\n      <td>...</td>\n      <td>...</td>\n      <td>...</td>\n      <td>...</td>\n      <td>...</td>\n      <td>...</td>\n      <td>...</td>\n    </tr>\n    <tr>\n      <th>5995</th>\n      <td>Materials Engineering</td>\n      <td>University of Padua</td>\n      <td>School of Engineering</td>\n      <td>The Master's degree Materials Engineering is a...</td>\n      <td>Our tuition fees will not exceed 2700 euros pe...</td>\n      <td>MSc</td>\n      <td>2 years</td>\n      <td>Padua</td>\n      <td>Italy</td>\n      <td>https://www.findamasters.com/masters-degrees/c...</td>\n      <td>On Campus</td>\n      <td>[master, degre, materi, engin, interdisciplina...</td>\n      <td>2344.77</td>\n      <td>[materials, engineering]</td>\n      <td>university of padua</td>\n      <td>padua</td>\n    </tr>\n    <tr>\n      <th>5996</th>\n      <td>Materials Engineering MSc</td>\n      <td>Swansea University</td>\n      <td>School of Engineering and Applied Sciences</td>\n      <td>The MSc in Materials Engineering provides you ...</td>\n      <td>Please visit our website for the Materials Eng...</td>\n      <td>MSc</td>\n      <td>1 year full-time; 2 years part-time; 3 years p...</td>\n      <td>Swansea</td>\n      <td>United Kingdom</td>\n      <td>https://www.findamasters.com/masters-degrees/c...</td>\n      <td>On Campus</td>\n      <td>[msc, materi, engin, provid, deep, understand,...</td>\n      <td>NaN</td>\n      <td>[materials, engineering, msc]</td>\n      <td>swansea university</td>\n      <td>swansea</td>\n    </tr>\n    <tr>\n      <th>5997</th>\n      <td>Materials Engineering MSc by Research</td>\n      <td>Swansea University</td>\n      <td>School of Engineering and Applied Sciences</td>\n      <td>Swansea is one of the UK’s leading centres for...</td>\n      <td>Please visit our website for the Materials Eng...</td>\n      <td>MSc, Research Only</td>\n      <td>1 year full-time; 2 years part-time</td>\n      <td>Swansea</td>\n      <td>United Kingdom</td>\n      <td>https://www.findamasters.com/masters-degrees/c...</td>\n      <td>On Campus</td>\n      <td>[swansea, one, uk, lead, centr, materi, teach,...</td>\n      <td>NaN</td>\n      <td>[materials, engineering, msc, by, research]</td>\n      <td>swansea university</td>\n      <td>swansea</td>\n    </tr>\n    <tr>\n      <th>5998</th>\n      <td>Materials Engineering with Industry, MSc</td>\n      <td>Swansea University</td>\n      <td>School of Engineering and Applied Sciences</td>\n      <td>Our MSc in Materials Engineering with Industry...</td>\n      <td>For current fees of the Materials Engineering ...</td>\n      <td>MSc</td>\n      <td>2 Years Full Time With a Year In Industry</td>\n      <td>Swansea</td>\n      <td>United Kingdom</td>\n      <td>https://www.findamasters.com/masters-degrees/c...</td>\n      <td>On Campus</td>\n      <td>[msc, materi, engin, industri, cours, open, in...</td>\n      <td>NaN</td>\n      <td>[materials, engineering, with, industry,, msc]</td>\n      <td>swansea university</td>\n      <td>swansea</td>\n    </tr>\n    <tr>\n      <th>5999</th>\n      <td>Materials for Energy and Environment MSc</td>\n      <td>University College London</td>\n      <td>Department of Chemistry</td>\n      <td>Register your interest in graduate study at UC...</td>\n      <td>Full time - £14,100</td>\n      <td>MSc</td>\n      <td>1 year full time</td>\n      <td>London</td>\n      <td>United Kingdom</td>\n      <td>https://www.findamasters.com/masters-degrees/c...</td>\n      <td>On Campus</td>\n      <td>[regist, interest, graduat, studi, uclth, glob...</td>\n      <td>14100.00</td>\n      <td>[materials, for, energy, and, environment, msc]</td>\n      <td>university college london</td>\n      <td>london</td>\n    </tr>\n  </tbody>\n</table>\n<p>6000 rows × 16 columns</p>\n</div>"
     },
     "execution_count": 50,
     "metadata": {},
     "output_type": "execute_result"
    }
   ],
   "source": [
    "df_courses['Course Name'] = df_courses['Course Name'].str.replace('-', '')\n",
    "df_courses['Course Name'] = df_courses['Course Name'].str.replace('msc', '')\n",
    "df_courses['Course Name'] = df_courses['Course Name'].str.replace('Msc', '')\n",
    "df_courses['coursename_clean'] = df_courses['Course Name'].str.lower().str.split()\n",
    "df_courses['uni_name_clean'] = df_courses['University Name'].str.lower()\n",
    "df_courses['city_lowered'] = df_courses['City'].str.lower()\n",
    "\n",
    "#\n",
    "df_courses"
   ],
   "metadata": {
    "collapsed": false,
    "ExecuteTime": {
     "end_time": "2023-11-25T19:06:07.271600Z",
     "start_time": "2023-11-25T19:06:07.163411900Z"
    }
   },
   "id": "a8dc489840f7045"
  },
  {
   "cell_type": "code",
   "execution_count": 51,
   "outputs": [
    {
     "name": "stdout",
     "output_type": "stream",
     "text": [
      "{'Design', 'Precision', 'FIFA', '(Hydrographic', 'Animate', '(Palaeoanthropology)', '(Waste,', 'Management', 'South', 'Hydrology', 'Nurse', 'Practice)', 'Planning)', 'Extremist', 'Implant', 'English', 'year)', 'programme)', 'Campus,', 'Accreditation)', '(Parttime', 'PGCert/PGDip/MSc', 'Crime,', '(Grenoble)', 'Inflammation', '(Consumer', 'HEMS', 'Yacht', 'Manufacture', 'validation)', 'Biochemistry)', '(Cellular', 'Insurance', 'Migrations', 'Chemistry', 'Collaboration', 'Trading', 'Needs', 'Earthquake', 'Programmable', '(Health', 'Disorders', 'Adaptation', 'Haematology', '(Online)', 'Territories', 'Games', 'Chronic', 'Failure', '(LPC)', 'Clinical', 'Infection,', 'East', 'Engineers', 'Urbanism', 'MHS/MSc', 'Regulatory', 'Nutrition,', '(Policy', 'General', 'Renewable', 'Elite', '(Distance', 'Wilderness', 'online', '(Minimallyinvasive', 'Optical', 'Wound', 'Aeronautics,', 'Policy,', '(Infection', 'Additive', 'ENGINEERING', 'Microsystems', 'Administration', 'Apprenticeship', '(M.A.,', 'placement', 'Human', 'NanoBio', 'Treatment', 'Immunotherapeutics', 'InvestigationMSc', 'Hotel', 'Aid', 'Cooperative', 'Aerospace', 'Airworthiness', 'M.A.', 'CHange', 'Periodontal', 'BIMEnabled', 'Investor', 'Transport,', 'Breeding', '(Innovation', 'Quantum', 'Based', 'Sciences)', 'Monitoring,', '(Resilient', '(Blended)', 'Diplomacy', '(Horticulture)', 'Pharmaceuticals', 'Entrepreneurship)', 'Seminar', 'MSc(DentSci)', 'Accessories', 'Engineering,', 'CentralEast', 'Geography:', 'HR', '(Agro)Forest', 'Early', 'Antimicrobial', 'specialism', 'Thought', 'Infectious', 'Synthetic', '3', 'Airline', 'pathway', 'track', 'Chains', '(AI)', '(Englishtaught)', 'WellBeing', '(Mathematics', 'Broadband', '(Sligo)', 'Populations', 'Emerging', 'Entomology', 'Thermal', 'Design)', 'Chemistry,', 'Of', 'Stability', 'Genes,', 'Analogue', 'Leadership,', 'Measurement', 'Printing', '(Mental', 'Health)', \"People's\", 'Applications,', 'with', 'Technology,', 'Education', 'Skin', 'Balance', 'Asia)', '(Chinese', 'available)', '(Technology)', 'Simulation', '(Simulation', 'Multidisciplinary', 'Big', 'Diversity', 'Development)', 'Lifespan,', '(Degree', 'Naval', 'effects', 'association', 'after', 'Gender,', 'CAD', 'Atmosphere,', 'degree', '(trinational)', '(Teaching', 'Remediation', 'Money', 'Evolution)', 'Carbon', 'Behavioural', 'Cologne', '(Progression', '(Agriculture', 'Restructuring', 'Movement', 'PartTime)', 'Governance', 'Microbiology', '(Executive)', 'Biology)', 'Ecosystems', 'Equine', 'How', 'INTERNATIONAL', 'business', '(MScBM)', 'FluidStructure', 'Cert', 'iheed', '(DDS)', 'Specialist', '(ALGANT)', 'Innovation', 'Intelligence)', 'Empires,', 'exam)', 'Base', '(By', 'Studies:', 'Astronomy', ')', 'Reform', 'Responsibility', '(Programming)', 'Sciences', 'Endangered', 'Midwifery', 'Pharmacy', '(Twoyear', 'Diabetes,', 'Information', 'MRes', \"Children's\", '(Occupational', 'Speech)', 'Conditioning', 'Geospatial', 'Practitioner/Professional', 'data', 'Apprenticeship)', 'Antique,', 'Investigative', '(Professional)', 'Qualifying', 'Learning)', 'Economics:', 'Gas', 'Therapies', 'Ecologies', '(Humanitarian', 'Futures:', '(Banking)', '(ScM)', 'Investigations', 'Research', 'Vertebrate', 'Endocrinology', 'REsilience', 'brain', 'Policy)', 'Weed', 'MSc/PGDip/PGcert', 'MPhil/MSc', 'Hospital', 'Decommissioning', 'Rural', 'EnviRonment', 'Biorobotics', 'Bench', 'Resistance', 'Port', '(MSc/PgDip/PgCert/PgProfDev)', 'Specialist)', 'MSc(MedSci)/PgDip/PgCert', 'Heritage', 'Visualization)', 'Anaesthesia', '(MScGMM)', 'MSc/PgDip', 'Production', 'Aerodynamics', 'Lifestyle', 'Professionals', '(DS)', 'MASc', 'Internship)', 'closely', 'End', 'Law)', 'Neonates', 'Behaviour', 'Genetics', 'LSELeipzig', 'elearning', 'Programme)', 'Gerontology', 'Disability', '(Applied)', 'an', '(Midwifery)', 'ArchitectureEngineering', 'Finance', '(Datadriven', 'HumanComputer', 'Topup)', 'analytics', 'Toys', 'Geoenvironmental', 'Critical', 'Strategy', 'Wealth', 'Gravity,', 'War', 'pathways', '(AUS)', 'LLM/MSc/PgDip/PgCert', 'M.S.)', '(M.Sc.)', 'Eastern', 'Interpretation:', 'Cert)', 'Family', 'industry)', '(MScAECON)', 'Agro', 'pathway)', 'Control,', 'Planning', 'Counselling', 'Tertiary', 'Radiography:', '(LSE', 'SecurityMSc', 'Internet', 'Marketing', 'Concrete', 'Engineering:', 'System', 'Econometrics', 'Cell', '(Ecology', 'Crop', 'Informatique', 'Reuse', 'for', 'Wirtschafts', 'Sector', 'Gerontological', '(Master)', 'Degree)', 'Policymaking', 'Engineering/Civil', 'Linguistic', 'Deaf', 'Particle', 'Neuroscience', 'Geoscience', '(Environmental', '(Architecture)', 'Global', '(Euro', '(EMarketing)', 'EuroMediterranean', 'Composites', 'in', 'Mass', 'Events,', 'Maintenance', 'Ecology,', 'Individualized', '(Media)', 'BioIndustry', 'Performance', 'MSc(Eng)', 'Speakers', 'Nanodevices', 'Optimisation', 'Practice', 'Biochemical', 'Victorian', 'Film', 'Paediatric', 'Healthy', 'Law', 'Adult,', '(Eng)', 'Europe', '(AECM)', 'Textiles', 'science', 'Pen', 'Professions', 'care', 'Frontend', 'Mediation', 'Cosmology', 'Bioanalytical', 'Real', 'Climate', 'Validation', 'Korean', 'Blockchain', 'Construction,', '(Forensic', 'Adaptive', 'Disaster', 'PgDip/PgCert/MSc', 'Geriatrics', 'Plants', 'tradition', '(Work', 'Robotic', 'Manufacturing:', 'EITKIC', 'Logic', 'Competitiveness', 'Small', 'M.H.A.', 'Physiology', 'Visual', 'Science)', 'Transport', 'Factors', '(On', 'online)', 'Cardiovascular', 'Immunotherapy', 'Communications', 'Cost', 'Policies', 'Culinary', '(ICL),', 'Ecology', 'Other', 'on', 'User', 'Profiling', 'Neurology', 'Threat', 'Degree', 'apprenticeship', 'Spirits', 'Accounting,', '1900', '(Research)/PgDip/PgCert:', 'PsychologyMSc', 'Network', '–', 'Inclusive', '(EMJMD)', 'PgCert/MSc', '(Marketing', 'Agricultural,', 'collaboration', 'Pharmaceutics', 'Dip', 'Security,', 'MSc(Res)', 'UCT)', 'Tourism', 'Interaction', '(The', '(Higher', '(Artificial', 'Digitalised', 'route)', 'Biophysics,', 'specialisation', 'Language', 'Pharmacoeconomics', '(Network', 'PGDip', '(Cardiovascular', 'Psychology', 'Centres', 'Year)', 'Medicinal', 'Decision', 'Crowded', '(MSc/PGDip/PGCert)', 'Artificial', '(pathway', 'present', 'apprenticeship)', 'reference', '(Urban', '(Health)', 'Taxation', 'Forestry', 'Things', '(Geel', 'Policing', 'Specialisms)', '(without', 'Distance', 'Chemicals', 'Econ', '(MSc/PGDip)', 'Biomolecular', 'Asia', 'Ophthalmology', 'Placement)', 'Product', 'Agricultural', 'Contexts', 'Cartography', 'Display', 'Autonomous', '(AIS)', '(Top', 'Transplantation', '(MScSHRM)', 'Integrity', 'Analysis', '(incorporating', 'Online)', '(Development', 'Administration)', 'China', 'Energy', '1st', '(research):', 'Practitioner', 'Testing', '3D', 'Trade', 'Master’s', 'Markets', 'History)', '(International)', 'Renal,', 'Data)', 'Digital', 'Burns,', 'Field', 'Periodontology', 'chains', 'or', '(Online', 'Optometry', '1)', 'Lightweight', 'Immersive', 'Leading', 'Delta', 'Oncology', 'Recycling', 'Activity', 'Religion', 'Qualification', '(LM16)', 'Technology', 'Natural', 'Accessibility', 'Sensory', 'Cardiology', 'Ecological', 'Propagation,', 'Integration', 'Molecular', 'Strategy:', 'Forensics', 'Robotics', '(parttime,', 'Operations', '(Heritage', '(IPCV)', '(parttime)', 'Drilling', 'Change', '(Supervision)', 'Intelligence', 'Cyberphysical', 'Geometry', 'Electronics', 'History:', 'Colonialism', 'learning)', 'Examination)', 'Palaeopathology', 'Neurophysics', 'Close', '(Analytics)', 'AdvProfDip', 'EvidenceBased', '(Investment', '(TRANSFORM)', '(Engineering)', 'NorthEast', '(Donegal)', 'Branding', '(AMIR)', '(fulltime,', 'BRAND', 'Cancer', 'Learning,', '(Adult)', 'Perfusion', 'MARKETING', 'Origins', 'Evaluation', 'Air', 'Ethology', '(Marketing)', '(Public', 'Moral', 'Digitalization', 'Wellness', 'Advanced', 'Avionic', 'Hamburg)', 'Transfusion', 'Dementia', '(AHP)', 'finance', 'Stream)', 'Medicines', 'Healthcare', 'Digitalization,', 'Unmanned', 'Ethics', 'Dip,', 'Gàidhealtachd', 'Surgical', '(subject', 'MPhil/', 'Genealogical,', 'Restorative', 'Cardiac', '(Radiography)', 'Evolutionary', 'Inequality', '(part', 'Analytical', 'parttime)', 'MSc/PGDip/PGCert', 'DevOps', 'Dermatology', 'ITE)', 'Highperformance', 'Residential', 'Omics', 'Charity', 'Futures', 'Biblical', 'Agriculture', 'Nursing', 'Supply', 'Flow', 'London', 'Animation', '(Inclusive', 'MBA', 'Parttime', 'Crises', 'Image', 'the', '(Aesthetic', 'Asset', 'Industry', 'MA/PGDip', 'Networking', '(Agriculture)', 'Behavior', '(HRM)', 'Celtic', 'Italian', 'Older', 'Psychotherapy', 'Processes', 'Marketing,', 'Studies', 'Community', 'Skills', 'Cognition', 'Effectiveness', 'Cyber', '(Medical', 'Safety', 'Econometric', 'Immunity', 'Water', 'Administration:', 'Guidance', 'MSc(Eng)/PGDip', 'Study)', 'Medical', '(Economics)', '(Parttime)', 'Oil', '(Neuroscience)', 'Performance,', 'Affairs', 'History,', 'Occupational', 'Crime', 'PGCert/PGDip)', 'Stem', 'Prevention', 'Toxicology', 'PsychologyMSC', 'Automation', '7', 'Victimology', 'Reliability', 'diversification', 'Microelectronics', 'Bioimaging', '(MSTM)', 'Explosives', '(Electronics)', 'Scene', '(research)', 'Service', 'Contamination', 'Digitalisation', '(integrated', 'Monetary', 'Reproduction', '(Computer', 'Audio', 'For', 'Young', '(WBIS)', 'AgroBiomedical', 'climAte', 'Globalised', '(FullTime)', 'Business)', 'Organisation', 'Cert/PG', 'Livelihoods', 'Practice,', 'Therapeutics', '(Conversion', 'Positive', 'MRes)', 'Enhanced', '2', 'RIGHTS', 'Sites', 'Classics)', 'Osteoarchaeology', 'Resolution', '(Outbreak', 'Acute', 'years)', 'Enterprise)', 'Interpreting', 'MTh,', 'Technical', 'Factory', '(National', '(Entrepreneurship', '(MAIA)', 'Trait', 'Radiographic', 'food', '(topup)', '(Dubai', 'Up)', 'Years)', 'Economics', 'Arbitration', '(Regulatory', '(ODL)', '(ESDA)', 'Women', 'Dentistry', 'Algebra,', 'LLM/MSc)', 'Actuarial', 'Online', 'Multimedia', '(Ghent', 'people', '(MSc)', 'Preparatory', 'Computation', 'Biosciences', 'Ocean', 'Motorsport', 'MSc)', 'Healthspan', 'Berlin', 'Home', 'Atmospheric', 'Youth', 'Managing', 'Arts', 'Affaires', '(Master', 'Finance)', 'distance', 'Acoustics', 'Criminological', 'MS)', 'MScR', 'Change,', 'Rights', 'Exercise', 'Fundamentals', 'Accountancy', 'Hydrogen', 'Pacific', 'Value', 'Compliance', 'Interprofessional', 'Dependability', 'MA/MSc/MBA', 'Registered', 'Conversion', 'Kids', 'Design:', '(Community', 'Criminology,', 'Extended', 'LLM/MSc', 'Experience)', 'Risk,', 'Processing', 'Mundus', 'Addictions', 'Lighting', 'FinTech', 'Gun', 'Dairy', 'Civil', 'Primary', 'Organization', 'Implantology', 'AgriFood', '(PgCert/PgDip,', 'Creativity', \"Master's\", 'Ageing', '|', 'MSc/MA', 'Reconstruction', 'Audiology:', 'eye', 'Preservation', 'Law,', 'Statistics', 'Adapted', 'Perspective', 'Vehicle', 'Horticulture', 'Centre', 'ENTREPRENEURSHIP', '(Digital', 'Making', 'native', 'MA/MSc', 'HUMAN', 'Cloud', 'Property,', 'Controllers', '(Infrastructures', 'Education,', 'und', 'Geomodelling', 'DNA', 'Intelligence,', 'External', '(Disaster', 'Care', 'Neurosciences', 'Genetic', 'SecurityMSC', 'Projects', 'Consortium', '(Human', 'markets', '(MSc', 'Immunology)', 'Local', '(CSNE)', 'Managerial', 'Railway', 'Mechanical', 'Power', 'Economy', 'eBusiness', 'MSc/MSc', 'University', 'bumblebee', 'Hacking', 'Economic', 'duplication', 'Tissue', 'Psychosis', 'Neuromuscular', 'FoodRe\\xadlated', 'Mapping', 'Markets),', 'Ancient', 'Intensive', 'Relations', 'Dialogue', '(Football)', 'PgCert', 'P.Grad.Dip.)', 'Psychosocial', '(Topup)', 'None', '(online)', 'Environments', 'Trauma', 'option', 'Integrative', 'Affective', 'Jewellery:', 'Urbanism,', 'Podiatry', 'Organisationspsychologie', 'credits)', 'Social,', '(Chartered', 'Radiotherapy', 'Biotech', 'Science/Postgraduate', 'Functional', '(Finance)', 'Child', 'Community,', 'Technological', 'Therapy)', 'Plastic', '(AMIS)', 'Applied', 'Diabetes', 'MVetSci,', 'IMETE', 'Communication', '(International', 'years)\"', 'Nanoscale', 'Programme', 'Trust', 'Outdoor', 'Nu\\xadtri\\xadtion', '(Neuroscience,', 'Institutions', '()', 'Genomic', 'MScEcon', 'PgProfDev', 'Restoration', '(MSc/PGDip/PgCert:', 'Counter', '(Materials', 'Po)', 'New', 'Mechatronics', 'Semiconductor', 'Asian', 'Filmmaking', 'Telecommunication', 'Course', 'Observation', 'Comparative', 'England', 'specialization', 'Surveying)', 'Mechanics', 'Art,', 'Innovations', 'Robot', 'Engineering)', 'DDM', 'Seismic', '(MA/MSc/PGCert/PGDip)', '(MA', 'Philosophy', 'Astronautics', '(One', 'Science,', 'Endodontics', 'Prosthetic', 'Aesthetic', '(Dubai)', 'Quality', 'Migration', 'Multiomics', 'Aerial', 'Anthropology,', 'CFA', 'Furniture', 'Infections', 'Chain', 'MedTech', 'Zero', 'insect', 'Organizational', 'Aeronautical', 'Buckingham)', 'Acquisition', 'Geological', 'Cells', 'Agribusiness', '(Business', 'research', 'Legal', 'Video', 'Mathematical', 'Conflict', 'Microbiome', 'Educational', 'Placement', 'Urbanised', 'Management:', 'Subsurface', 'Foundation', 'Analytics,', 'Transformation)', 'strategy', 'Digitalisation,', 'Aquae)', 'division', '(Energy', 'Flexible', 'Geographical', '(Building', '(Business)', 'M.SC.', 'Fashion', 'PGCert,', '(MSc/MA/MInnov)', 'Poultry', '(FT)', 'Entrepreneurship,', 'Autism', 'Paediatrics', 'Skull', 'Hu\\xadman', 'Cellular', 'Science', 'Meetings', 'MSc/PGCert', 'Safety,', '(Open', 'Architecture,', 'Mind', '5G', 'Investment', 'Biomechanics', 'Leather', 'Monitoring', '(Senior', 'Extreme', 'Enforcement', 'Transformations', 'Biochemistry', 'Endodontology', 'Treatments', 'Preventative', 'Pest,', 'RISK', 'Agroecology', 'Marriage', 'Government', 'Practice)*', 'Environmental', 'ManagementMSc', 'Nanotechnology', 'Audiological', 'Democracy', 'Immunity)', 'MA/MBM/MSc', '(M.Sc.', 'Otology', 'Rights)', 'Buying', '(Swansea)', '(SECCLO)', 'Experimental', 'Modular', 'Related', 'Mobile', '(IMEC)', 'Graphics,', 'Audiology', 'Banking,', '(MS)', 'Electromechanical', 'Medicine)', 'Physiotherapy:', 'Internship', 'Rhythm', 'Electromechanics', 'Manipulative', '(Masters', 'Geoinformation', 'Discovery', 'Intermediality:', 'Organisations', 'Pharmacology', 'Museums', 'Biomedical', 'SUSTAINABILITY', 'Enviromental', 'Things:', '(Florida', 'Application', 'Collections', 'Offshore', '(Neurological', 'Visualisation', 'Epidemiology)', '(Ecotoxicology)', 'Disabilities', 'Biodiversity', 'IN', '(Sign', 'Project', '(Political', 'Exhibition', 'Hearing', 'Development,', '(Apprenticeship)', 'PGCert', '(2', '(IoT)', 'Insights', 'Training', 'Customer', 'Sensing', '(ICP)', 'Islam', 'Campus', 'POLIMI', '(ARCHMAT)', 'Hygiene', 'Route', '(Multisector)', '(Industrial', 'a', 'Aesthetics)', 'Status', 'Biosystems', 'Conservative', 'Curriculum', 'Course)', 'Frontiers', '(M.Sc/P.Grad.Dip)', 'TIME)', 'Sustainability', 'GIS,', 'Classics', 'across', 'MPA', 'MSc(MedSci)/PgDip', 'Augmented', 'Financial', 'Epidemiology', '(University', 'Romantic', 'of', 'Endocrine', 'Disability,', 'Globalisation', 'Ordnance', 'Forest', 'build', 'Penal', 'MSSc/MA', 'Experience', 'Computer', '(Joint', 'Complex', 'Eurasian', '(Speciality', '(Distance)', 'Optimization', 'Fast', 'Cosmetic', 'luxury', 'Formulation', 'Pharmacy,', 'Podiatric', 'Spatial', 'Brand', '(FinTech)', 'Integrated', 'Pain', 'HumanAnimal', 'LSELSHTM', '(CIPD', '(Mechanical)', 'Allergy', 'Acoustical', 'Film,', '(Leadership', 'Efficiency', 'Biology:', 'Classical', 'Sciences:', '(Part', 'Security)', 'eGovernance', 'Electronic', 'Education)', 'SCIENCE', 'Education/', '(Anaesthesia)', '(CIMA', 'Surveying),', 'Security', '(MEng)', 'Agroecology,', 'Survivorship', 'Materials', 'Nanoengineering', 'Radiobiology', 'Collecting', 'PGProfDev', 'Neonatology', '&', '(PartTime)', 'Route)', 'Dietetics', 'Remote', 'Sport', '(Branding', 'Secondary', 'Grande', 'MAgrSc', 'Geography', 'ChristianMuslim', 'Equity', 'MSc/PgCert', '(Professional', 'Radiation', '(ATMP)', 'study', '(Preregistration)', 'University)', 'Terrorism', '(CSE)', 'Mechanisms', 'Muslim', 'Addiction', 'PGDIP)', 'Internal', 'Housing', 'Distilling', 'Aquaculture,', 'EUROPHOTONICS', 'Systems,', 'Interpretation', 'Interactive', 'History', 'Lift', '/', 'delivery)', '(Specialist', 'Nanoscience', 'Career', 'from', '(Cloud', 'Finance,', 'Communication,', 'Construction', 'Pharma', 'Neuropsychiatry', '(Operations', 'Intensive)', 'Mumbai', '(MScEGM)', 'GradCert', 'TECHNOLOGY,', 'Surgery', '(Food', '(Two', 'Welfare', 'MSC', 'Change:', 'Assurance', '(Conversion)', 'Recovery', 'master', 'Investigating', 'ESMT', 'Audiovestibular', 'Psychological', 'Safeguarding', 'PGCert/PGDip', 'HumanTechnology', 'Statistical', 'time)', 'Intervention', 'whole', 'Datamining', 'Buildings)', 'et', 'Demography', 'Leader', 'Banker)', 'InterMaths', 'Literature,', 'Battery', 'Wireless', 'Monuments', 'Accounting', 'Physiotherapy', 'Lifelong', 'Minimum', 'Entry', 'Fudan)', 'Technologies)', 'credits,', '(Statistics)', 'Web', 'Energy,', 'Care)', 'Disability)', 'Latin', 'Paramedic', 'IT', '(MScAAF)', 'Neuroimaging', 'MSc/PGDip', 'Graphics', 'Geophysics', 'Foundations', 'species,', 'Reliability)', 'Welfare,', 'MSc/PgDip/PgCert', 'Composites:', 'Osteology', '(Environment', 'Hazard', 'Enlightenment,', 'Diploma', 'Pandemics', 'Relationships', 'Reality', 'Grids', 'Disease', 'Sustainability)', 'Social', 'Communities,', 'MIM)', '(Ghent)', 'Surface', 'Well', 'MSc(MedSci)', '(Blood', 'Eating', 'Diseases', 'MSc/PgCert/PgDip', 'Childhood,', 'Estate', 'Nutrition', 'Cardiorespiratory', '(SuMO)', 'Geosciences', 'Metabolic', 'Contexts,', 'Criminology', '(Bruges)', '(Banking', 'Business,', 'Mundus)', 'Networked', '(MME', '(PreRegistration)', 'Autonomy', 'MSc/PgD', 'Conservation', 'Survey', 'Agrifood', 'Desalination', '(MSc/PGDip/PGCert/PGCert', 'Hydroinformatics', '(Sport)', '(MAPPCP)', 'as', 'Adolescent', 'parttime', '(Sustainable', 'Sustainability,', 'Ultrasound)', 'genome', 'Counseling', 'Radiography', 'Driven', 'Instrumentation', 'Aesthetics', 'Capability', 'optional', 'MSc/', 'Reality)', 'Accredited),', 'Countering', '(Systems', 'Fintech', 'Respiratory', 'Society)', 'Pharmaceutical', 'PGDip)', 'via', 'Maritime', 'Sexualities', 'Computing', 'Circular', '(MScCCAFS)', 'River', 'Lifecourse', 'Music', '(Learning', '(Wirtschaftsinformatik)', 'M.Sc.', '(STEEM)', 'Places', 'Fellowship', 'Executive', 'MSc(Agr)', 'Double', 'Bioeconomy,', 'Biotechnology', 'MS', '(Future', 'Visiting', 'Russian,', 'Geriatric', '(3', 'Health,', 'to', 'Bioarchaeological', 'Manipulation', '(by', 'Innovative', 'spider', '(distance', 'Excellence', 'Perioperative', 'Structures', 'Societies', '(Econometrics)/', 'Software', 'Analysis,', '(placement', 'Biotechnology)', '(Financial', 'Electrochemistry', 'evening', 'MSc/MRes', 'Brewing', 'Water,', '(Conflict,', 'Caring', 'Architecture', '(Entrepreneurship)', 'District', '(GlasgowNankai', 'Data,', 'Joint', 'Learning:', '(Oncology)', 'al)', 'Intellectual', '(Project', 'Circuit', 'Palaeographic', 'Blended', 'Multimodal', 'Neuroscience:', '[DTA]', '(preregistration)', 'Study', 'Physics,', '(ICSS)', 'Engineering', '(Software', '(twoyear)', 'Luxury', '(With', '(1', '(M.S.)', 'Growth', 'Event', 'Maxillofacial', 'Biosocial', '(Quantitative', 'Sexuality', 'Facade', 'anatomy', 'Genes', 'Practitioner)', 'Number', 'Fuel', 'PGDip/MSc', 'Marine', 'Process', 'Cybersecurity', 'Criminal', 'Resource', 'Therapy', 'Markt', '100%', 'Literature:', '(Civil', 'European', 'Products', 'Sustainable', 'Internationales', 'Consultancy', 'Textile', '(Corporate', 'Corporations', 'Centered', 'CIMA', 'Writing', '(MOST)', '(Operations)', 'Japan', 'Light', '(double', 'Programs', 'Education:', 'Automotive', 'Technologies,', 'Technologies', '(Sustainability)', '(on', 'Valuation', 'M.S.', 'Governance)', '(Integrated)', 'Advancing', 'Mitigation', 'Microbiotechnology', 'INNOVATION,', '(MPP)', 'Dynamics', 'Gastroenterology', 'Banking', 'Fire', 'Masters', 'and', 'Exploration', 'Interior', 'DECISION', 'Cyberpsychology', 'Management,', 'Turbine', '(SintKatelijneWaver)', 'Society', 'Alcohol', 'TESOL:', 'Archaeological', 'Neurodiversity', 'Sociology', 'Hypnosis', 'Transition', 'Space', 'Maternal', 'Bioethics', 'Land', '(FinTech', 'Science:', 'Imaging', 'Assessment', 'Adult', 'Regional', 'Quantity', 'Dual', 'Ethical', 'Enterprise', 'Shipping', '(IBMS', 'Regenerative', '(MEDEG)', 'program', 'Evidence', 'Livestock', 'Vision', '(Augmented', '(erasmus', 'Fluids)', '(MSIT)', 'Resilience', 'PgDip/MSc', 'Dip/PG', '(PGDip)', '(Adult', 'MSc/LLM', 'Auditing', 'Associate', 'Town', 'Innovation,', 'Translating', 'Nanoscience,', '(Nursing)', 'Affairs,', 'Causes,', 'Wellbeing', 'Industrial/Organizational', 'Infrastructural', 'Gateway)', 'Modernity', 'MPH', 'Person', 'ICT', '(ESG)', '(Environment,', 'Infancy', '(Education', '(MA/MSc)', 'Allied', 'Headship)', 'RF', 'sexual', '(Campus)', 'Wine', 'Gravitational', 'Compounds', '(MER2030)', 'Mobility', 'Infection', 'Island', 'Entrepreneurship', '(TopUp)', 'Biobased', 'Blood', 'Industries', 'Intelligent', 'Chemical', 'Public', 'Investments', 'Surveying', 'Context', 'Airport', 'Prescribing)', 'Leadership', '(Leadership)', 'basis', 'programme', '(Intentional', 'industrial', '(LSESciences', '(Security', '(Energy,', 'Knowledge,', 'Built', 'MSc/PG', 'Analytics:', 'Crisis', 'Aviation', 'Control(MSc)', 'its', 'Net', 'Methods', 'NICE)', 'Werbepsychologie', 'Stirling', ',', '(also', 'Planning,', 'Lawyers', 'Art:', 'Practise', 'Resources', 'Doctor', 'Rehabilitation)', 'Industry,', 'Art', '(Research)', 'Photography', 'degree)', 'Culture', 'Higher', 'Complexity', 'Accountability', 'Inclusion', 'Computing)', 'ONLINE', 'Fields', 'International', '(Oceans', 'Politics,', 'campus', 'Negotiated', 'MSc', 'Structural', 'Reconstructive', 'Childhood', 'Geographic', 'Americas', 'TechnoAnthropology', '(Surgical)', 'Sunderland)', 'Neuropharmacology', '2nd', 'Bioprocessing', '(Erasmus', 'Wildlife', 'Decarbonisation', 'Hydrographic', 'related', 'Biology', '(Ag\\xadri\\xadcul\\xadture', 'Manufacturing', '(Internet', 'Epistemology,', '(Practice', 'AND', 'Teaching', 'Africa', 'Research)', 'Stage)', 'Neurophysiotherapy', '(Graduate', 'Justice', 'Commerce', 'Statistics)', '(PGDip/MSc)', 'Senior', 'Embedded', 'Energy)', '(CRESTA)', 'Cybercrime,', 'Pollution', 'Political', '(Rights', 'Electrical', 'Environmental,', 'Media', 'BSc', 'Ecole', 'Registration', 'Micro', 'Aquatic', 'Postgraduate', 'Transport)', 'Vibrational', 'options', 'Astrobiology', 'Geophysical', 'Fundraising', 'Belonging', 'Cities', 'HumanCentred', 'CPE', 'MSc/Postgraduate', 'Defence', 'Consulting', '(Sønderborg)', 'ECONOMICS', 'Risk', 'Certificate', 'Biostatistics', 'Child,', '(2year)', 'IC', 'Propulsion', 'Fine', 'Retail', 'topup)', '(Advanced)', 'Matter', 'Species', '4.0', '(Fintech)', '(APS)', 'PgCert,', '(with', 'Mentoring', 'Glaciology', 'Ethnic', 'Bioinnovation', 'Risks', 'Composite', 'Modelling', 'Anatomy', 'Literacy', 'Impact', '(120', 'Aging,', 'MSc/PGCert/PGDip', 'ChineseEnglish', '(postgraduation', 'Late', 'Be\\xadha\\xadviour', 'Virtual', 'Contemporary', 'Innovation)', 'Protection', 'Systems)', 'Promotion', 'Solutions', 'Cultural', 'Neonatal', 'Economies', 'GP', 'Travel', 'Organisational', 'Award', 'Hearing,', 'Literature', '(IMAT)', 'Museum', '(Leuven)', 'Events', '(LEADS)', 'Physics', '(IPAS)', 'Independent', 'School)', 'Logistics,', 'Synthesis', 'PGDip,', 'at', 'Specialisation', 'Offshore,', '(Geographic', 'Environment:', 'Lacustrine', '(Construction', 'Green', 'Laboratory', 'Microbiology)', 'Future', 'Longevity', 'Outcomes', 'Master', '(EMNOnline)', 'Fintech,', 'Transport/', 'DataIntensive', 'Nanobiotechnologies', 'Food', 'Heraldic', 'Compound', 'Bioscience,', 'Protection)', 'MANAGEMENT', 'Urban', 'Erasmus', '(Intelligent', 'Building', '(Brussels)', 'Landscape', '(100%', 'Control', '(Enterprise', 'Bioscience', 'Bioengineering', 'Therapies:', 'Humanitarian', 'Systems', '(Cyber', '(MiM)', 'Transitions', 'Reproductive', 'Astrophysical', '(Learning,', 'Challenges', 'Agroforestry', 'Peacebuilding', 'Commercial', '(PGCert/PGDip/MSc)', \"Masters's\", '(Clinical', '(PGCert', 'Counterterrorism', 'Cultures', 'Genomics', 'Meteorology', 'Climatology', 'Sovereignty', 'Gas)', 'Business', 'Award)', 'Biopharmaceutical', 'Nursing)', 'Adaption', 'Horticultural', 'People', 'Strength', 'Policy', '(ANWM)', 'FastTrack', '(HRDM)', 'contractility', 'Conflicts,', 'Worlds', 'Industrial', 'Food,', 'MSc,', '(Neurosensory', 'Practice:', 'Improvement', 'Loss', 'Geology', 'PgDip,', 'Marketing)', 'Pathology)', 'NonMedical', '(MAHSR)', 'HealthProfessions', 'Expedition', 'Coaching', '(RADMEP)', 'Clinical,', 'Signal', '(MSc/PgDip/PgCert)', 'HRM', 'BioInnovation', '(Rural', 'PG', 'Data', 'Hospitality', 'PreRegistration', 'Mammal', 'Children', 'Therapeutic', 'Plant', 'Stade', 'Transformation', 'campus)', 'Accredited)', '(XHEC)', 'Nature', '2023/2024', 'Medicine:', 'Special', '(CAMH)', 'Islamic', 'Bioeconomy', '(fulltime)', 'Development', 'Journalism', 'Cooperation', 'Urban,', 'Provenance', '(Healthcare)', '(MScDABE)', '(Renewable', 'Translation', 'Repair', 'Government,', 'Theory', 'years', 'Discovery,', 'Environment', '(Dumfries', '(Global)', '(Economics', 'Deep', 'Color', 'Modern', 'cell', 'Microsystems,', 'Pathobiology', 'degrees', 'Connected', '(Critical', '(EESS)', 'Hand', '(BIMDT)', 'Comparative,', 'Politics', 'Facilities', 'dimorphism', '(MBS)', 'BioIntegrated', 'Informatics', 'Nordic', 'Microelectronic', 'Controlling', 'Amputation', 'Artefact', 'Intercultural', 'Psychology:', 'Diplomacy,', '(Intercalated)', 'REACH:', '(Accountancy)', 'Theoretical', 'Extension.', 'Peace,', 'Psychopathology', 'Services)', 'Game', 'HighPerformance', 'ANALYTICS', 'Flood', 'Settlements', 'Neurophysiology', 'Master)', '(DSC)', 'Dental', 'Particles', '(Oneyear', 'DATA', '(CEMS', 'Regulation', 'Animal', 'Emergencies', '(Dual', 'Principles', 'Creative', 'Analytics', '(Sexuality)', 'Media,', 'MSSc', 'Management/Development', 'CUL)', 'Tech', '(Management', 'Psychology,', 'ISS', 'incorporating', '(Musculoskeletal', '(Primary', 'size', 'Environments,', 'Diagnostics', '(Analysis/Toxicology)', 'Durability', 'through', 'PGCert/PgDip/MSc', '(Sexual', '(FAMEAIS)', '(Water', 'Forensic', '(MHA)', 'course', 'Agriculture,', 'Psychiatric', '(full', 'Architectural', 'SystemonChip', 'Languages', 'Outcome', '(BIM)', 'Corporate', 'Ocular', 'Biological', '(Virtual', 'Computational', '(Child)', '(Bruges', 'Bioarchaeology', '(Neuroscience', 'USC)', 'Ergonomics', 'Neuroscience,', 'Decolonial', 'Authenticity', 'Bioprocess', 'Property', 'Leisure', 'Planetary', 'V300', '(Energy.', 'Reparatory', 'BIM', 'Sports', 'Dance', '(ESTP)', 'Bioinformatics', 'Chemistry)', 'animal', 'Environment,', 'Communications)', 'Micromobility', '(MSc/PGCert)', 'Taxonomy', 'Inequalities', 'Tuljapur', 'Aquaculture', 'Spectrum', 'North,', '(Advanced', 'Biology,', 'Translational', 'Veterinary', 'Advertising', 'Cyberspace', 'by', 'And', 'MClinDent', 'Peace', 'Football', 'Biotherapeutics', 'Po', 'City', 'Years', 'Arts/Master', '2030', '(Digitalisation', '(PgDip/MSc)', 'Extension', 'Cognitive', 'Pathways)', 'Resources)', 'Islands', 'High', '(PgCert/PgDip/MSc)', '(Odense)', 'PgDip', 'MLitt/MSc', 'Developmental', 'Assisted', 'Mathematics', 'Management)', 'Ecosystem', 'Software,', '(Managing', 'Research:', 'Biomedicine', 'Drugs', 'Measures', 'Aircraft', 'Genocide', 'LSESciences', 'target', 'Fisheries', 'Level', 'M2', '(Haematology', 'Nuclear', '(ECT+)', 'Inflammatory', 'Ballistics', 'Material', 'Transactional', 'Conflict,', 'Gender', 'Neurodevelopmental', 'award', 'Applicable', 'Catalysis', '(ValueBased)', '(LSEFudan)', '(Campus', '(ACCA)', 'Hospitality,', '(LSEColumbia', 'Private', 'Financed)', 'only)', 'Time)', 'Humanities', 'Pricing)', '(Asset', 'Library', '(Pelvic', 'Rehabilitation', 'Ultrasound', 'Graduate', '(AEIOT)', 'Investigation', 'Cybercrime', 'Appraisal', 'Historic', 'Archaeology:', 'Humanitarianism,', '(Bioarchaeology)', 'African', 'Machine', 'Criminology/Criminal', '(Poverty,', 'Economics,', 'Demolition', 'Pathway)', 'Vehicles', 'Telecommunications', 'Psychotherapy:', 'Psychiatry', '1', 'GeoEnergy', 'Effects', 'Petroleum', 'In', 'Guided', 'Middle', '(Research', '(CEID)', 'STRATEGIC', 'genetic', 'Inclusion,', 'Dementia:', 'Coastal', 'Applications', 'Speech', 'placement)', '(LSEPKU)', 'cells', 'Hazards', 'Infrastructure', 'Biotechnologies)', '(MSQM)', 'Linguistics', 'Cert/PGDip)', 'Gene', 'Archaeology', 'MASTER', 'Econometrics,', 'PeopleCentred', '(CSR', 'Heart', '(in', 'Explosion', 'Patient', 'Geotechnical', 'Mental', 'Leadership)', 'Fluid', '(Modular)', 'Prosperity', 'Storage)', 'Physics)', '(M.Arch)', 'From', 'Photonics', 'Astrophysics', 'Geomatics', 'Ophthalmic', 'Immunology', 'Palliative', 'Musculoskeletal', 'Wave', 'Delivery', 'Drug', 'Embryology', 'Characterisation', 'Life', '(MSc/MRes)', 'Earth', 'Device', '(UKCP', '(Singapore)', 'Weapon', 'available', 'Engagement,', 'Dispute', 'Instructional', 'elearning)', '(VIBOT)', 'Electric', 'Professional', 'Geoinformatics', 'School', '(MSc/PgCert/PgDip)', 'Geochemistry', 'INSURANCE', 'Lakes)', 'Studies)', '(Automotive)', 'Conservation,', '(Aerospace)', 'Medicine', 'Processbased', 'Consumer', 'Assistance', 'Campus)', 'Oceanic', 'Pathology', 'Buildings', 'Analytics)', 'Fund', 'Strategy,', 'Work', 'innovation', 'Logistics', 'Health', '(Postgraduate', 'Financing', 'Children’s', 'Change)', 'LSEPeking', 'GeoInformation', 'specialism)', 'SCADA', 'Training)', '(Leuven', 'Anthropology', 'Universities):', 'Focus', 'Contract', 'Privacy', '(Healthcare', '(Social', 'MSc/PgD/PgC', 'Stroke', 'Deglutology', 'MLE,', 'Trials', 'Interventions', 'Biotechnologies', ':', 'Novel', 'accredited),', '(LSEBocconi)', 'Infrastructures', 'Automation,', 'Reporting', 'Nutritional', '(Extended)', 'Quantitative', 'Forestry)', '(online,', '(MPH)', 'Premodern', 'Engagement', 'MSc/PgC/PgD', 'banking', '(Full', 'Oral', 'mundus)', 'Surgery)', 'Knowledge', '(60', 'Fraud', 'MA', 'Year', 'Strategic', 'World', '(Blended', 'Techniques', 'Globalization', 'Emergency', 'Tourism,', 'Historical', 'Services', '(Archaeology', 'Byzantine', 'Evolution', '(LSEColumbia)', 'Open', 'FINANCE,', 'Economics)', 'MA/MSc/MEnv', 'Infrastructure,', 'Biomaterials', '(ES)', 'Hydrogeology', 'Studies,', 'Forecasting', 'Craft', 'Welding', 'MSc/PGDip/PgCert', 'EE)', '(Self', '(Analgesia', 'Curation', 'Processing:', '(Economic', '(PGCert,', 'Breast', 'Techology', '(General)', 'Algal', 'Diagnostics,', 'Biodiversity,', 'Mngmt', 'Vet', 'American', 'Microelectronics,', 'Networks', 'Track', 'Physical', 'AI', 'Quality,', 'Diagnostic', 'LLM', 'Brain', 'Commercialisation', 'Action', '(ESIoT)', 'Learning', '(MScCGC)', 'Program', 'Electrophysiology', 'Economics/', '(Data', 'Interdisciplinary', 'integrated', 'Neuropsychology', 'Identities', 'Market', 'year', 'Waste', 'Smart', '(Specializing'}\n"
     ]
    }
   ],
   "source": [
    "all_words_set = set()\n",
    "\n",
    "# Function to extract words from a course name and add them to the set\n",
    "def extract_words(course_name):\n",
    "    words = course_name.split()\n",
    "    all_words_set.update(words)\n",
    "\n",
    "# Apply the function to each row in the 'course name' column\n",
    "df_courses['Course Name'].apply(extract_words)\n",
    "\n",
    "# Display the set of all unique words\n",
    "print(all_words_set)"
   ],
   "metadata": {
    "collapsed": false,
    "ExecuteTime": {
     "end_time": "2023-11-25T19:06:07.294920800Z",
     "start_time": "2023-11-25T19:06:07.208775500Z"
    }
   },
   "id": "2937966ba5ad64d0"
  },
  {
   "cell_type": "code",
   "execution_count": 52,
   "outputs": [],
   "source": [
    "vocabulary = {}\n",
    "unique_id = 1\n",
    "for word in list(all_words_set):\n",
    "  vocabulary[unique_id] = word.lower()\n",
    "  unique_id += 1"
   ],
   "metadata": {
    "collapsed": false,
    "ExecuteTime": {
     "end_time": "2023-11-25T19:06:07.294920800Z",
     "start_time": "2023-11-25T19:06:07.224601300Z"
    }
   },
   "id": "f8abfe4b201ef9d1"
  },
  {
   "cell_type": "code",
   "execution_count": 33,
   "outputs": [],
   "source": [
    "# Loop through the keys of the vocabulary\n",
    "inverted_index = dict()\n",
    "for i in list(vocabulary.keys()):\n",
    "    inverted_index[i] = []\n",
    "    for index, row in df_courses.iterrows():\n",
    "        if vocabulary[i] in row['coursename_clean']:\n",
    "            inverted_index[i].append(index)"
   ],
   "metadata": {
    "collapsed": false,
    "ExecuteTime": {
     "end_time": "2023-11-25T18:43:41.783651800Z",
     "start_time": "2023-11-25T18:34:35.193077700Z"
    }
   },
   "id": "de98c269654897f4"
  },
  {
   "cell_type": "code",
   "execution_count": 53,
   "outputs": [],
   "source": [
    "\n",
    "def search_documents(split_cn):\n",
    "    result_indices = set()\n",
    "    for term in split_cn:\n",
    "        if term in vocabulary.values():\n",
    "            term_id = [key for key, value in vocabulary.items() if value == term][0]\n",
    "            result_indices.update(inverted_index[term_id])\n",
    "    return result_indices\n"
   ],
   "metadata": {
    "collapsed": false,
    "ExecuteTime": {
     "end_time": "2023-11-25T19:06:07.326716Z",
     "start_time": "2023-11-25T19:06:07.228726Z"
    }
   },
   "id": "adc9859db1dc2588"
  },
  {
   "cell_type": "code",
   "execution_count": 56,
   "outputs": [
    {
     "name": "stdout",
     "output_type": "stream",
     "text": [
      "Filtered courses:\n",
      "                                   Course Name  \\\n",
      "512                Accounting and Finance  MSc   \n",
      "1                  Accounting and Finance  MSc   \n",
      "513                Accounting and Finance  MSc   \n",
      "514                Accounting and Finance  MSc   \n",
      "515                Accounting and Finance  MSc   \n",
      "...                                        ...   \n",
      "4603      International Accounting and Finance   \n",
      "508   Accounting and Business Intelligence MSc   \n",
      "509     Accounting and Business Management MSc   \n",
      "510          Accounting and Data Analytics MSc   \n",
      "511   Accounting and Finance  Fast track (MSc)   \n",
      "\n",
      "                                 University Name  \\\n",
      "512                     University of Birmingham   \n",
      "1                            University of Leeds   \n",
      "513   University of the West of England, Bristol   \n",
      "514                           Cardiff University   \n",
      "515                            Bangor University   \n",
      "...                                          ...   \n",
      "4603              London Metropolitan University   \n",
      "508                     Brunel University London   \n",
      "509                     Brunel University London   \n",
      "510                     University of Portsmouth   \n",
      "511                  Sheffield Hallam University   \n",
      "\n",
      "                                                   Link  \n",
      "512   https://www.findamasters.com/masters-degrees/c...  \n",
      "1     https://www.findamasters.com/masters-degrees/c...  \n",
      "513   https://www.findamasters.com/masters-degrees/c...  \n",
      "514   https://www.findamasters.com/masters-degrees/c...  \n",
      "515   https://www.findamasters.com/masters-degrees/c...  \n",
      "...                                                 ...  \n",
      "4603  https://www.findamasters.com/masters-degrees/c...  \n",
      "508   https://www.findamasters.com/masters-degrees/c...  \n",
      "509   https://www.findamasters.com/masters-degrees/c...  \n",
      "510   https://www.findamasters.com/masters-degrees/c...  \n",
      "511   https://www.findamasters.com/masters-degrees/c...  \n",
      "\n",
      "[95 rows x 3 columns]\n"
     ]
    }
   ],
   "source": [
    "import pandas as pd\n",
    "\n",
    "def search_eng():\n",
    "    # Collect user inputs\n",
    "    course_name = input('Enter Course Name (press enter to skip): ').lower()\n",
    "    uni_name = input('Enter University Name (press enter to skip): ').lower()\n",
    "    city = input('Enter City Name (press enter to skip): ').lower()\n",
    "    online = input('Do you need an online modality? Reply with Y or N (press enter to skip): ').lower()\n",
    "\n",
    "    # Default values for price range\n",
    "    min_price = input('Enter Minimum Price (press enter to skip): ')\n",
    "    max_price = input('Enter Maximum Price (press enter to skip): ')\n",
    "\n",
    "    # Apply filters based on user inputs\n",
    "    filtered_courses = df_courses.copy()\n",
    "\n",
    "    if course_name:\n",
    "        course_name_split = set(course_name.split())\n",
    "        course_indices = search_documents(course_name_split)\n",
    "        filtered_courses = filtered_courses.loc[list(course_indices)]\n",
    "\n",
    "    if uni_name:\n",
    "        uni_name_lower = uni_name.lower()\n",
    "        filtered_courses = filtered_courses[filtered_courses['uni_name_clean'].str.contains(uni_name_lower)]\n",
    "\n",
    "    if city:\n",
    "        city_lower = city.lower()\n",
    "        filtered_courses = filtered_courses[filtered_courses['city_lowered'].str.contains(city_lower)]\n",
    "\n",
    "    # Filter based on Fees (£)\n",
    "    filtered_courses['fees (£)'] = filtered_courses['fees (£)'].apply(lambda x: x if pd.notna(x) and str(x).replace('.', '', 1).isdigit() else 'Refer to university website for fees')\n",
    "\n",
    "    # Filter based on price range\n",
    "    if min_price and max_price:\n",
    "        # Exclude courses with 'Refer to university website for fees' if user provides a fee range\n",
    "        filtered_courses = filtered_courses[(filtered_courses['fees (£)'] != 'Refer to university website for fees') & (filtered_courses['fees (£)'] >= int(min_price)) & (filtered_courses['fees (£)'] <= int(max_price))]\n",
    "    elif min_price:\n",
    "        filtered_courses = filtered_courses[(filtered_courses['fees (£)'] != 'Refer to university website for fees') & (filtered_courses['fees (£)'] >= int(min_price))]\n",
    "    elif max_price:\n",
    "        filtered_courses = filtered_courses[(filtered_courses['fees (£)'] != 'Refer to university website for fees') & (filtered_courses['fees (£)'] <= int(max_price))]\n",
    "\n",
    "    if online == 'y':\n",
    "        filtered_courses = filtered_courses[filtered_courses['administration'].str.contains('online', case=False)]\n",
    "    elif online == 'n':\n",
    "        filtered_courses = filtered_courses[~filtered_courses['administration'].str.contains('online', case=False)]\n",
    "\n",
    "    # Display the final result\n",
    "    if not filtered_courses.empty:\n",
    "        # Print only the required columns\n",
    "        result_columns = ['Course Name', 'University Name', 'Link']\n",
    "        print(\"Filtered courses:\")\n",
    "        print(filtered_courses[result_columns])\n",
    "    else:\n",
    "        print(\"No courses match the specified criteria.\")\n",
    "\n",
    "# Call the search engine function\n",
    "search_eng()\n"
   ],
   "metadata": {
    "collapsed": false,
    "ExecuteTime": {
     "end_time": "2023-11-25T19:08:03.871331400Z",
     "start_time": "2023-11-25T19:07:59.180692500Z"
    }
   },
   "id": "b40d2eb3241594ab"
  },
  {
   "cell_type": "code",
   "execution_count": null,
   "outputs": [],
   "source": [
    "\n"
   ],
   "metadata": {
    "collapsed": false
   },
   "id": "87c4dbcd254d499"
  }
 ],
 "metadata": {
  "kernelspec": {
   "display_name": "Python 3",
   "language": "python",
   "name": "python3"
  },
  "language_info": {
   "codemirror_mode": {
    "name": "ipython",
    "version": 2
   },
   "file_extension": ".py",
   "mimetype": "text/x-python",
   "name": "python",
   "nbconvert_exporter": "python",
   "pygments_lexer": "ipython2",
   "version": "2.7.6"
  }
 },
 "nbformat": 4,
 "nbformat_minor": 5
}
