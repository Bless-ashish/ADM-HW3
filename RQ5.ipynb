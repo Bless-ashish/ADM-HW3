{
 "cells": [
  {
   "cell_type": "code",
   "execution_count": 5,
   "outputs": [],
   "source": [
    "#transforming a pandas series into a dataframe\n",
    "df_courses = pd.DataFrame(df_courses)"
   ],
   "metadata": {
    "collapsed": false
   },
   "id": "11ea2555141c38be"
  },
  {
   "cell_type": "code",
   "execution_count": 6,
   "outputs": [
    {
     "ename": "NameError",
     "evalue": "name 'df_courses' is not defined",
     "output_type": "error",
     "traceback": [
      "\u001B[1;31m---------------------------------------------------------------------------\u001B[0m",
      "\u001B[1;31mNameError\u001B[0m                                 Traceback (most recent call last)",
      "Cell \u001B[1;32mIn[6], line 2\u001B[0m\n\u001B[0;32m      1\u001B[0m \u001B[38;5;66;03m# changing the format here in order to be able to compare the input with the dataframe\u001B[39;00m\n\u001B[1;32m----> 2\u001B[0m df_courses[\u001B[38;5;124m'\u001B[39m\u001B[38;5;124mCourse Name\u001B[39m\u001B[38;5;124m'\u001B[39m] \u001B[38;5;241m=\u001B[39m df_courses[\u001B[38;5;124m'\u001B[39m\u001B[38;5;124mCourse Name\u001B[39m\u001B[38;5;124m'\u001B[39m]\u001B[38;5;241m.\u001B[39mstr\u001B[38;5;241m.\u001B[39mreplace(\u001B[38;5;124m'\u001B[39m\u001B[38;5;124m-\u001B[39m\u001B[38;5;124m'\u001B[39m, \u001B[38;5;124m'\u001B[39m\u001B[38;5;124m'\u001B[39m)\n\u001B[0;32m      3\u001B[0m \u001B[38;5;66;03m#removing the msc from the course names \u001B[39;00m\n\u001B[0;32m      4\u001B[0m df_courses[\u001B[38;5;124m'\u001B[39m\u001B[38;5;124mCourse Name\u001B[39m\u001B[38;5;124m'\u001B[39m] \u001B[38;5;241m=\u001B[39m df_courses[\u001B[38;5;124m'\u001B[39m\u001B[38;5;124mCourse Name\u001B[39m\u001B[38;5;124m'\u001B[39m]\u001B[38;5;241m.\u001B[39mstr\u001B[38;5;241m.\u001B[39mreplace(\u001B[38;5;124m'\u001B[39m\u001B[38;5;124mmsc\u001B[39m\u001B[38;5;124m'\u001B[39m, \u001B[38;5;124m'\u001B[39m\u001B[38;5;124m'\u001B[39m)\n",
      "\u001B[1;31mNameError\u001B[0m: name 'df_courses' is not defined"
     ]
    }
   ],
   "source": [
    "# changing the format here in order to be able to compare the input with the dataframe\n",
    "df_courses['Course Name'] = df_courses['Course Name'].str.replace('-', '')\n",
    "#removing the msc from the course names \n",
    "df_courses['Course Name'] = df_courses['Course Name'].str.replace('msc', '')\n",
    "df_courses['Course Name'] = df_courses['Course Name'].str.replace('Msc', '')\n",
    "df_courses['Course Name'] = df_courses['Course Name'].str.replace('MSc','')\n",
    "df_courses['coursename_clean'] = df_courses['Course Name'].str.lower().str.split()\n",
    "df_courses['uni_name_clean'] = df_courses['University Name'].str.lower()\n",
    "df_courses['city_lowered'] = df_courses['City'].str.lower()\n",
    "\n",
    "\n",
    "df_courses"
   ],
   "metadata": {
    "collapsed": false,
    "ExecuteTime": {
     "end_time": "2023-11-26T16:13:37.672979400Z",
     "start_time": "2023-11-26T16:13:37.544589300Z"
    }
   },
   "id": "a8dc489840f7045"
  },
  {
   "cell_type": "code",
   "execution_count": 51,
   "outputs": [
    {
     "name": "stdout",
     "output_type": "stream",
     "text": [
      "{'Design', 'Precision', 'FIFA', '(Hydrographic', 'Animate', '(Palaeoanthropology)', '(Waste,', 'Management', 'South', 'Hydrology', 'Nurse', 'Practice)', 'Planning)', 'Extremist', 'Implant', 'English', 'year)', 'programme)', 'Campus,', 'Accreditation)', '(Parttime', 'PGCert/PGDip/MSc', 'Crime,', '(Grenoble)', 'Inflammation', '(Consumer', 'HEMS', 'Yacht', 'Manufacture', 'validation)', 'Biochemistry)', '(Cellular', 'Insurance', 'Migrations', 'Chemistry', 'Collaboration', 'Trading', 'Needs', 'Earthquake', 'Programmable', '(Health', 'Disorders', 'Adaptation', 'Haematology', '(Online)', 'Territories', 'Games', 'Chronic', 'Failure', '(LPC)', 'Clinical', 'Infection,', 'East', 'Engineers', 'Urbanism', 'MHS/MSc', 'Regulatory', 'Nutrition,', '(Policy', 'General', 'Renewable', 'Elite', '(Distance', 'Wilderness', 'online', '(Minimallyinvasive', 'Optical', 'Wound', 'Aeronautics,', 'Policy,', '(Infection', 'Additive', 'ENGINEERING', 'Microsystems', 'Administration', 'Apprenticeship', '(M.A.,', 'placement', 'Human', 'NanoBio', 'Treatment', 'Immunotherapeutics', 'InvestigationMSc', 'Hotel', 'Aid', 'Cooperative', 'Aerospace', 'Airworthiness', 'M.A.', 'CHange', 'Periodontal', 'BIMEnabled', 'Investor', 'Transport,', 'Breeding', '(Innovation', 'Quantum', 'Based', 'Sciences)', 'Monitoring,', '(Resilient', '(Blended)', 'Diplomacy', '(Horticulture)', 'Pharmaceuticals', 'Entrepreneurship)', 'Seminar', 'MSc(DentSci)', 'Accessories', 'Engineering,', 'CentralEast', 'Geography:', 'HR', '(Agro)Forest', 'Early', 'Antimicrobial', 'specialism', 'Thought', 'Infectious', 'Synthetic', '3', 'Airline', 'pathway', 'track', 'Chains', '(AI)', '(Englishtaught)', 'WellBeing', '(Mathematics', 'Broadband', '(Sligo)', 'Populations', 'Emerging', 'Entomology', 'Thermal', 'Design)', 'Chemistry,', 'Of', 'Stability', 'Genes,', 'Analogue', 'Leadership,', 'Measurement', 'Printing', '(Mental', 'Health)', \"People's\", 'Applications,', 'with', 'Technology,', 'Education', 'Skin', 'Balance', 'Asia)', '(Chinese', 'available)', '(Technology)', 'Simulation', '(Simulation', 'Multidisciplinary', 'Big', 'Diversity', 'Development)', 'Lifespan,', '(Degree', 'Naval', 'effects', 'association', 'after', 'Gender,', 'CAD', 'Atmosphere,', 'degree', '(trinational)', '(Teaching', 'Remediation', 'Money', 'Evolution)', 'Carbon', 'Behavioural', 'Cologne', '(Progression', '(Agriculture', 'Restructuring', 'Movement', 'PartTime)', 'Governance', 'Microbiology', '(Executive)', 'Biology)', 'Ecosystems', 'Equine', 'How', 'INTERNATIONAL', 'business', '(MScBM)', 'FluidStructure', 'Cert', 'iheed', '(DDS)', 'Specialist', '(ALGANT)', 'Innovation', 'Intelligence)', 'Empires,', 'exam)', 'Base', '(By', 'Studies:', 'Astronomy', ')', 'Reform', 'Responsibility', '(Programming)', 'Sciences', 'Endangered', 'Midwifery', 'Pharmacy', '(Twoyear', 'Diabetes,', 'Information', 'MRes', \"Children's\", '(Occupational', 'Speech)', 'Conditioning', 'Geospatial', 'Practitioner/Professional', 'data', 'Apprenticeship)', 'Antique,', 'Investigative', '(Professional)', 'Qualifying', 'Learning)', 'Economics:', 'Gas', 'Therapies', 'Ecologies', '(Humanitarian', 'Futures:', '(Banking)', '(ScM)', 'Investigations', 'Research', 'Vertebrate', 'Endocrinology', 'REsilience', 'brain', 'Policy)', 'Weed', 'MSc/PGDip/PGcert', 'MPhil/MSc', 'Hospital', 'Decommissioning', 'Rural', 'EnviRonment', 'Biorobotics', 'Bench', 'Resistance', 'Port', '(MSc/PgDip/PgCert/PgProfDev)', 'Specialist)', 'MSc(MedSci)/PgDip/PgCert', 'Heritage', 'Visualization)', 'Anaesthesia', '(MScGMM)', 'MSc/PgDip', 'Production', 'Aerodynamics', 'Lifestyle', 'Professionals', '(DS)', 'MASc', 'Internship)', 'closely', 'End', 'Law)', 'Neonates', 'Behaviour', 'Genetics', 'LSELeipzig', 'elearning', 'Programme)', 'Gerontology', 'Disability', '(Applied)', 'an', '(Midwifery)', 'ArchitectureEngineering', 'Finance', '(Datadriven', 'HumanComputer', 'Topup)', 'analytics', 'Toys', 'Geoenvironmental', 'Critical', 'Strategy', 'Wealth', 'Gravity,', 'War', 'pathways', '(AUS)', 'LLM/MSc/PgDip/PgCert', 'M.S.)', '(M.Sc.)', 'Eastern', 'Interpretation:', 'Cert)', 'Family', 'industry)', '(MScAECON)', 'Agro', 'pathway)', 'Control,', 'Planning', 'Counselling', 'Tertiary', 'Radiography:', '(LSE', 'SecurityMSc', 'Internet', 'Marketing', 'Concrete', 'Engineering:', 'System', 'Econometrics', 'Cell', '(Ecology', 'Crop', 'Informatique', 'Reuse', 'for', 'Wirtschafts', 'Sector', 'Gerontological', '(Master)', 'Degree)', 'Policymaking', 'Engineering/Civil', 'Linguistic', 'Deaf', 'Particle', 'Neuroscience', 'Geoscience', '(Environmental', '(Architecture)', 'Global', '(Euro', '(EMarketing)', 'EuroMediterranean', 'Composites', 'in', 'Mass', 'Events,', 'Maintenance', 'Ecology,', 'Individualized', '(Media)', 'BioIndustry', 'Performance', 'MSc(Eng)', 'Speakers', 'Nanodevices', 'Optimisation', 'Practice', 'Biochemical', 'Victorian', 'Film', 'Paediatric', 'Healthy', 'Law', 'Adult,', '(Eng)', 'Europe', '(AECM)', 'Textiles', 'science', 'Pen', 'Professions', 'care', 'Frontend', 'Mediation', 'Cosmology', 'Bioanalytical', 'Real', 'Climate', 'Validation', 'Korean', 'Blockchain', 'Construction,', '(Forensic', 'Adaptive', 'Disaster', 'PgDip/PgCert/MSc', 'Geriatrics', 'Plants', 'tradition', '(Work', 'Robotic', 'Manufacturing:', 'EITKIC', 'Logic', 'Competitiveness', 'Small', 'M.H.A.', 'Physiology', 'Visual', 'Science)', 'Transport', 'Factors', '(On', 'online)', 'Cardiovascular', 'Immunotherapy', 'Communications', 'Cost', 'Policies', 'Culinary', '(ICL),', 'Ecology', 'Other', 'on', 'User', 'Profiling', 'Neurology', 'Threat', 'Degree', 'apprenticeship', 'Spirits', 'Accounting,', '1900', '(Research)/PgDip/PgCert:', 'PsychologyMSc', 'Network', '–', 'Inclusive', '(EMJMD)', 'PgCert/MSc', '(Marketing', 'Agricultural,', 'collaboration', 'Pharmaceutics', 'Dip', 'Security,', 'MSc(Res)', 'UCT)', 'Tourism', 'Interaction', '(The', '(Higher', '(Artificial', 'Digitalised', 'route)', 'Biophysics,', 'specialisation', 'Language', 'Pharmacoeconomics', '(Network', 'PGDip', '(Cardiovascular', 'Psychology', 'Centres', 'Year)', 'Medicinal', 'Decision', 'Crowded', '(MSc/PGDip/PGCert)', 'Artificial', '(pathway', 'present', 'apprenticeship)', 'reference', '(Urban', '(Health)', 'Taxation', 'Forestry', 'Things', '(Geel', 'Policing', 'Specialisms)', '(without', 'Distance', 'Chemicals', 'Econ', '(MSc/PGDip)', 'Biomolecular', 'Asia', 'Ophthalmology', 'Placement)', 'Product', 'Agricultural', 'Contexts', 'Cartography', 'Display', 'Autonomous', '(AIS)', '(Top', 'Transplantation', '(MScSHRM)', 'Integrity', 'Analysis', '(incorporating', 'Online)', '(Development', 'Administration)', 'China', 'Energy', '1st', '(research):', 'Practitioner', 'Testing', '3D', 'Trade', 'Master’s', 'Markets', 'History)', '(International)', 'Renal,', 'Data)', 'Digital', 'Burns,', 'Field', 'Periodontology', 'chains', 'or', '(Online', 'Optometry', '1)', 'Lightweight', 'Immersive', 'Leading', 'Delta', 'Oncology', 'Recycling', 'Activity', 'Religion', 'Qualification', '(LM16)', 'Technology', 'Natural', 'Accessibility', 'Sensory', 'Cardiology', 'Ecological', 'Propagation,', 'Integration', 'Molecular', 'Strategy:', 'Forensics', 'Robotics', '(parttime,', 'Operations', '(Heritage', '(IPCV)', '(parttime)', 'Drilling', 'Change', '(Supervision)', 'Intelligence', 'Cyberphysical', 'Geometry', 'Electronics', 'History:', 'Colonialism', 'learning)', 'Examination)', 'Palaeopathology', 'Neurophysics', 'Close', '(Analytics)', 'AdvProfDip', 'EvidenceBased', '(Investment', '(TRANSFORM)', '(Engineering)', 'NorthEast', '(Donegal)', 'Branding', '(AMIR)', '(fulltime,', 'BRAND', 'Cancer', 'Learning,', '(Adult)', 'Perfusion', 'MARKETING', 'Origins', 'Evaluation', 'Air', 'Ethology', '(Marketing)', '(Public', 'Moral', 'Digitalization', 'Wellness', 'Advanced', 'Avionic', 'Hamburg)', 'Transfusion', 'Dementia', '(AHP)', 'finance', 'Stream)', 'Medicines', 'Healthcare', 'Digitalization,', 'Unmanned', 'Ethics', 'Dip,', 'Gàidhealtachd', 'Surgical', '(subject', 'MPhil/', 'Genealogical,', 'Restorative', 'Cardiac', '(Radiography)', 'Evolutionary', 'Inequality', '(part', 'Analytical', 'parttime)', 'MSc/PGDip/PGCert', 'DevOps', 'Dermatology', 'ITE)', 'Highperformance', 'Residential', 'Omics', 'Charity', 'Futures', 'Biblical', 'Agriculture', 'Nursing', 'Supply', 'Flow', 'London', 'Animation', '(Inclusive', 'MBA', 'Parttime', 'Crises', 'Image', 'the', '(Aesthetic', 'Asset', 'Industry', 'MA/PGDip', 'Networking', '(Agriculture)', 'Behavior', '(HRM)', 'Celtic', 'Italian', 'Older', 'Psychotherapy', 'Processes', 'Marketing,', 'Studies', 'Community', 'Skills', 'Cognition', 'Effectiveness', 'Cyber', '(Medical', 'Safety', 'Econometric', 'Immunity', 'Water', 'Administration:', 'Guidance', 'MSc(Eng)/PGDip', 'Study)', 'Medical', '(Economics)', '(Parttime)', 'Oil', '(Neuroscience)', 'Performance,', 'Affairs', 'History,', 'Occupational', 'Crime', 'PGCert/PGDip)', 'Stem', 'Prevention', 'Toxicology', 'PsychologyMSC', 'Automation', '7', 'Victimology', 'Reliability', 'diversification', 'Microelectronics', 'Bioimaging', '(MSTM)', 'Explosives', '(Electronics)', 'Scene', '(research)', 'Service', 'Contamination', 'Digitalisation', '(integrated', 'Monetary', 'Reproduction', '(Computer', 'Audio', 'For', 'Young', '(WBIS)', 'AgroBiomedical', 'climAte', 'Globalised', '(FullTime)', 'Business)', 'Organisation', 'Cert/PG', 'Livelihoods', 'Practice,', 'Therapeutics', '(Conversion', 'Positive', 'MRes)', 'Enhanced', '2', 'RIGHTS', 'Sites', 'Classics)', 'Osteoarchaeology', 'Resolution', '(Outbreak', 'Acute', 'years)', 'Enterprise)', 'Interpreting', 'MTh,', 'Technical', 'Factory', '(National', '(Entrepreneurship', '(MAIA)', 'Trait', 'Radiographic', 'food', '(topup)', '(Dubai', 'Up)', 'Years)', 'Economics', 'Arbitration', '(Regulatory', '(ODL)', '(ESDA)', 'Women', 'Dentistry', 'Algebra,', 'LLM/MSc)', 'Actuarial', 'Online', 'Multimedia', '(Ghent', 'people', '(MSc)', 'Preparatory', 'Computation', 'Biosciences', 'Ocean', 'Motorsport', 'MSc)', 'Healthspan', 'Berlin', 'Home', 'Atmospheric', 'Youth', 'Managing', 'Arts', 'Affaires', '(Master', 'Finance)', 'distance', 'Acoustics', 'Criminological', 'MS)', 'MScR', 'Change,', 'Rights', 'Exercise', 'Fundamentals', 'Accountancy', 'Hydrogen', 'Pacific', 'Value', 'Compliance', 'Interprofessional', 'Dependability', 'MA/MSc/MBA', 'Registered', 'Conversion', 'Kids', 'Design:', '(Community', 'Criminology,', 'Extended', 'LLM/MSc', 'Experience)', 'Risk,', 'Processing', 'Mundus', 'Addictions', 'Lighting', 'FinTech', 'Gun', 'Dairy', 'Civil', 'Primary', 'Organization', 'Implantology', 'AgriFood', '(PgCert/PgDip,', 'Creativity', \"Master's\", 'Ageing', '|', 'MSc/MA', 'Reconstruction', 'Audiology:', 'eye', 'Preservation', 'Law,', 'Statistics', 'Adapted', 'Perspective', 'Vehicle', 'Horticulture', 'Centre', 'ENTREPRENEURSHIP', '(Digital', 'Making', 'native', 'MA/MSc', 'HUMAN', 'Cloud', 'Property,', 'Controllers', '(Infrastructures', 'Education,', 'und', 'Geomodelling', 'DNA', 'Intelligence,', 'External', '(Disaster', 'Care', 'Neurosciences', 'Genetic', 'SecurityMSC', 'Projects', 'Consortium', '(Human', 'markets', '(MSc', 'Immunology)', 'Local', '(CSNE)', 'Managerial', 'Railway', 'Mechanical', 'Power', 'Economy', 'eBusiness', 'MSc/MSc', 'University', 'bumblebee', 'Hacking', 'Economic', 'duplication', 'Tissue', 'Psychosis', 'Neuromuscular', 'FoodRe\\xadlated', 'Mapping', 'Markets),', 'Ancient', 'Intensive', 'Relations', 'Dialogue', '(Football)', 'PgCert', 'P.Grad.Dip.)', 'Psychosocial', '(Topup)', 'None', '(online)', 'Environments', 'Trauma', 'option', 'Integrative', 'Affective', 'Jewellery:', 'Urbanism,', 'Podiatry', 'Organisationspsychologie', 'credits)', 'Social,', '(Chartered', 'Radiotherapy', 'Biotech', 'Science/Postgraduate', 'Functional', '(Finance)', 'Child', 'Community,', 'Technological', 'Therapy)', 'Plastic', '(AMIS)', 'Applied', 'Diabetes', 'MVetSci,', 'IMETE', 'Communication', '(International', 'years)\"', 'Nanoscale', 'Programme', 'Trust', 'Outdoor', 'Nu\\xadtri\\xadtion', '(Neuroscience,', 'Institutions', '()', 'Genomic', 'MScEcon', 'PgProfDev', 'Restoration', '(MSc/PGDip/PgCert:', 'Counter', '(Materials', 'Po)', 'New', 'Mechatronics', 'Semiconductor', 'Asian', 'Filmmaking', 'Telecommunication', 'Course', 'Observation', 'Comparative', 'England', 'specialization', 'Surveying)', 'Mechanics', 'Art,', 'Innovations', 'Robot', 'Engineering)', 'DDM', 'Seismic', '(MA/MSc/PGCert/PGDip)', '(MA', 'Philosophy', 'Astronautics', '(One', 'Science,', 'Endodontics', 'Prosthetic', 'Aesthetic', '(Dubai)', 'Quality', 'Migration', 'Multiomics', 'Aerial', 'Anthropology,', 'CFA', 'Furniture', 'Infections', 'Chain', 'MedTech', 'Zero', 'insect', 'Organizational', 'Aeronautical', 'Buckingham)', 'Acquisition', 'Geological', 'Cells', 'Agribusiness', '(Business', 'research', 'Legal', 'Video', 'Mathematical', 'Conflict', 'Microbiome', 'Educational', 'Placement', 'Urbanised', 'Management:', 'Subsurface', 'Foundation', 'Analytics,', 'Transformation)', 'strategy', 'Digitalisation,', 'Aquae)', 'division', '(Energy', 'Flexible', 'Geographical', '(Building', '(Business)', 'M.SC.', 'Fashion', 'PGCert,', '(MSc/MA/MInnov)', 'Poultry', '(FT)', 'Entrepreneurship,', 'Autism', 'Paediatrics', 'Skull', 'Hu\\xadman', 'Cellular', 'Science', 'Meetings', 'MSc/PGCert', 'Safety,', '(Open', 'Architecture,', 'Mind', '5G', 'Investment', 'Biomechanics', 'Leather', 'Monitoring', '(Senior', 'Extreme', 'Enforcement', 'Transformations', 'Biochemistry', 'Endodontology', 'Treatments', 'Preventative', 'Pest,', 'RISK', 'Agroecology', 'Marriage', 'Government', 'Practice)*', 'Environmental', 'ManagementMSc', 'Nanotechnology', 'Audiological', 'Democracy', 'Immunity)', 'MA/MBM/MSc', '(M.Sc.', 'Otology', 'Rights)', 'Buying', '(Swansea)', '(SECCLO)', 'Experimental', 'Modular', 'Related', 'Mobile', '(IMEC)', 'Graphics,', 'Audiology', 'Banking,', '(MS)', 'Electromechanical', 'Medicine)', 'Physiotherapy:', 'Internship', 'Rhythm', 'Electromechanics', 'Manipulative', '(Masters', 'Geoinformation', 'Discovery', 'Intermediality:', 'Organisations', 'Pharmacology', 'Museums', 'Biomedical', 'SUSTAINABILITY', 'Enviromental', 'Things:', '(Florida', 'Application', 'Collections', 'Offshore', '(Neurological', 'Visualisation', 'Epidemiology)', '(Ecotoxicology)', 'Disabilities', 'Biodiversity', 'IN', '(Sign', 'Project', '(Political', 'Exhibition', 'Hearing', 'Development,', '(Apprenticeship)', 'PGCert', '(2', '(IoT)', 'Insights', 'Training', 'Customer', 'Sensing', '(ICP)', 'Islam', 'Campus', 'POLIMI', '(ARCHMAT)', 'Hygiene', 'Route', '(Multisector)', '(Industrial', 'a', 'Aesthetics)', 'Status', 'Biosystems', 'Conservative', 'Curriculum', 'Course)', 'Frontiers', '(M.Sc/P.Grad.Dip)', 'TIME)', 'Sustainability', 'GIS,', 'Classics', 'across', 'MPA', 'MSc(MedSci)/PgDip', 'Augmented', 'Financial', 'Epidemiology', '(University', 'Romantic', 'of', 'Endocrine', 'Disability,', 'Globalisation', 'Ordnance', 'Forest', 'build', 'Penal', 'MSSc/MA', 'Experience', 'Computer', '(Joint', 'Complex', 'Eurasian', '(Speciality', '(Distance)', 'Optimization', 'Fast', 'Cosmetic', 'luxury', 'Formulation', 'Pharmacy,', 'Podiatric', 'Spatial', 'Brand', '(FinTech)', 'Integrated', 'Pain', 'HumanAnimal', 'LSELSHTM', '(CIPD', '(Mechanical)', 'Allergy', 'Acoustical', 'Film,', '(Leadership', 'Efficiency', 'Biology:', 'Classical', 'Sciences:', '(Part', 'Security)', 'eGovernance', 'Electronic', 'Education)', 'SCIENCE', 'Education/', '(Anaesthesia)', '(CIMA', 'Surveying),', 'Security', '(MEng)', 'Agroecology,', 'Survivorship', 'Materials', 'Nanoengineering', 'Radiobiology', 'Collecting', 'PGProfDev', 'Neonatology', '&', '(PartTime)', 'Route)', 'Dietetics', 'Remote', 'Sport', '(Branding', 'Secondary', 'Grande', 'MAgrSc', 'Geography', 'ChristianMuslim', 'Equity', 'MSc/PgCert', '(Professional', 'Radiation', '(ATMP)', 'study', '(Preregistration)', 'University)', 'Terrorism', '(CSE)', 'Mechanisms', 'Muslim', 'Addiction', 'PGDIP)', 'Internal', 'Housing', 'Distilling', 'Aquaculture,', 'EUROPHOTONICS', 'Systems,', 'Interpretation', 'Interactive', 'History', 'Lift', '/', 'delivery)', '(Specialist', 'Nanoscience', 'Career', 'from', '(Cloud', 'Finance,', 'Communication,', 'Construction', 'Pharma', 'Neuropsychiatry', '(Operations', 'Intensive)', 'Mumbai', '(MScEGM)', 'GradCert', 'TECHNOLOGY,', 'Surgery', '(Food', '(Two', 'Welfare', 'MSC', 'Change:', 'Assurance', '(Conversion)', 'Recovery', 'master', 'Investigating', 'ESMT', 'Audiovestibular', 'Psychological', 'Safeguarding', 'PGCert/PGDip', 'HumanTechnology', 'Statistical', 'time)', 'Intervention', 'whole', 'Datamining', 'Buildings)', 'et', 'Demography', 'Leader', 'Banker)', 'InterMaths', 'Literature,', 'Battery', 'Wireless', 'Monuments', 'Accounting', 'Physiotherapy', 'Lifelong', 'Minimum', 'Entry', 'Fudan)', 'Technologies)', 'credits,', '(Statistics)', 'Web', 'Energy,', 'Care)', 'Disability)', 'Latin', 'Paramedic', 'IT', '(MScAAF)', 'Neuroimaging', 'MSc/PGDip', 'Graphics', 'Geophysics', 'Foundations', 'species,', 'Reliability)', 'Welfare,', 'MSc/PgDip/PgCert', 'Composites:', 'Osteology', '(Environment', 'Hazard', 'Enlightenment,', 'Diploma', 'Pandemics', 'Relationships', 'Reality', 'Grids', 'Disease', 'Sustainability)', 'Social', 'Communities,', 'MIM)', '(Ghent)', 'Surface', 'Well', 'MSc(MedSci)', '(Blood', 'Eating', 'Diseases', 'MSc/PgCert/PgDip', 'Childhood,', 'Estate', 'Nutrition', 'Cardiorespiratory', '(SuMO)', 'Geosciences', 'Metabolic', 'Contexts,', 'Criminology', '(Bruges)', '(Banking', 'Business,', 'Mundus)', 'Networked', '(MME', '(PreRegistration)', 'Autonomy', 'MSc/PgD', 'Conservation', 'Survey', 'Agrifood', 'Desalination', '(MSc/PGDip/PGCert/PGCert', 'Hydroinformatics', '(Sport)', '(MAPPCP)', 'as', 'Adolescent', 'parttime', '(Sustainable', 'Sustainability,', 'Ultrasound)', 'genome', 'Counseling', 'Radiography', 'Driven', 'Instrumentation', 'Aesthetics', 'Capability', 'optional', 'MSc/', 'Reality)', 'Accredited),', 'Countering', '(Systems', 'Fintech', 'Respiratory', 'Society)', 'Pharmaceutical', 'PGDip)', 'via', 'Maritime', 'Sexualities', 'Computing', 'Circular', '(MScCCAFS)', 'River', 'Lifecourse', 'Music', '(Learning', '(Wirtschaftsinformatik)', 'M.Sc.', '(STEEM)', 'Places', 'Fellowship', 'Executive', 'MSc(Agr)', 'Double', 'Bioeconomy,', 'Biotechnology', 'MS', '(Future', 'Visiting', 'Russian,', 'Geriatric', '(3', 'Health,', 'to', 'Bioarchaeological', 'Manipulation', '(by', 'Innovative', 'spider', '(distance', 'Excellence', 'Perioperative', 'Structures', 'Societies', '(Econometrics)/', 'Software', 'Analysis,', '(placement', 'Biotechnology)', '(Financial', 'Electrochemistry', 'evening', 'MSc/MRes', 'Brewing', 'Water,', '(Conflict,', 'Caring', 'Architecture', '(Entrepreneurship)', 'District', '(GlasgowNankai', 'Data,', 'Joint', 'Learning:', '(Oncology)', 'al)', 'Intellectual', '(Project', 'Circuit', 'Palaeographic', 'Blended', 'Multimodal', 'Neuroscience:', '[DTA]', '(preregistration)', 'Study', 'Physics,', '(ICSS)', 'Engineering', '(Software', '(twoyear)', 'Luxury', '(With', '(1', '(M.S.)', 'Growth', 'Event', 'Maxillofacial', 'Biosocial', '(Quantitative', 'Sexuality', 'Facade', 'anatomy', 'Genes', 'Practitioner)', 'Number', 'Fuel', 'PGDip/MSc', 'Marine', 'Process', 'Cybersecurity', 'Criminal', 'Resource', 'Therapy', 'Markt', '100%', 'Literature:', '(Civil', 'European', 'Products', 'Sustainable', 'Internationales', 'Consultancy', 'Textile', '(Corporate', 'Corporations', 'Centered', 'CIMA', 'Writing', '(MOST)', '(Operations)', 'Japan', 'Light', '(double', 'Programs', 'Education:', 'Automotive', 'Technologies,', 'Technologies', '(Sustainability)', '(on', 'Valuation', 'M.S.', 'Governance)', '(Integrated)', 'Advancing', 'Mitigation', 'Microbiotechnology', 'INNOVATION,', '(MPP)', 'Dynamics', 'Gastroenterology', 'Banking', 'Fire', 'Masters', 'and', 'Exploration', 'Interior', 'DECISION', 'Cyberpsychology', 'Management,', 'Turbine', '(SintKatelijneWaver)', 'Society', 'Alcohol', 'TESOL:', 'Archaeological', 'Neurodiversity', 'Sociology', 'Hypnosis', 'Transition', 'Space', 'Maternal', 'Bioethics', 'Land', '(FinTech', 'Science:', 'Imaging', 'Assessment', 'Adult', 'Regional', 'Quantity', 'Dual', 'Ethical', 'Enterprise', 'Shipping', '(IBMS', 'Regenerative', '(MEDEG)', 'program', 'Evidence', 'Livestock', 'Vision', '(Augmented', '(erasmus', 'Fluids)', '(MSIT)', 'Resilience', 'PgDip/MSc', 'Dip/PG', '(PGDip)', '(Adult', 'MSc/LLM', 'Auditing', 'Associate', 'Town', 'Innovation,', 'Translating', 'Nanoscience,', '(Nursing)', 'Affairs,', 'Causes,', 'Wellbeing', 'Industrial/Organizational', 'Infrastructural', 'Gateway)', 'Modernity', 'MPH', 'Person', 'ICT', '(ESG)', '(Environment,', 'Infancy', '(Education', '(MA/MSc)', 'Allied', 'Headship)', 'RF', 'sexual', '(Campus)', 'Wine', 'Gravitational', 'Compounds', '(MER2030)', 'Mobility', 'Infection', 'Island', 'Entrepreneurship', '(TopUp)', 'Biobased', 'Blood', 'Industries', 'Intelligent', 'Chemical', 'Public', 'Investments', 'Surveying', 'Context', 'Airport', 'Prescribing)', 'Leadership', '(Leadership)', 'basis', 'programme', '(Intentional', 'industrial', '(LSESciences', '(Security', '(Energy,', 'Knowledge,', 'Built', 'MSc/PG', 'Analytics:', 'Crisis', 'Aviation', 'Control(MSc)', 'its', 'Net', 'Methods', 'NICE)', 'Werbepsychologie', 'Stirling', ',', '(also', 'Planning,', 'Lawyers', 'Art:', 'Practise', 'Resources', 'Doctor', 'Rehabilitation)', 'Industry,', 'Art', '(Research)', 'Photography', 'degree)', 'Culture', 'Higher', 'Complexity', 'Accountability', 'Inclusion', 'Computing)', 'ONLINE', 'Fields', 'International', '(Oceans', 'Politics,', 'campus', 'Negotiated', 'MSc', 'Structural', 'Reconstructive', 'Childhood', 'Geographic', 'Americas', 'TechnoAnthropology', '(Surgical)', 'Sunderland)', 'Neuropharmacology', '2nd', 'Bioprocessing', '(Erasmus', 'Wildlife', 'Decarbonisation', 'Hydrographic', 'related', 'Biology', '(Ag\\xadri\\xadcul\\xadture', 'Manufacturing', '(Internet', 'Epistemology,', '(Practice', 'AND', 'Teaching', 'Africa', 'Research)', 'Stage)', 'Neurophysiotherapy', '(Graduate', 'Justice', 'Commerce', 'Statistics)', '(PGDip/MSc)', 'Senior', 'Embedded', 'Energy)', '(CRESTA)', 'Cybercrime,', 'Pollution', 'Political', '(Rights', 'Electrical', 'Environmental,', 'Media', 'BSc', 'Ecole', 'Registration', 'Micro', 'Aquatic', 'Postgraduate', 'Transport)', 'Vibrational', 'options', 'Astrobiology', 'Geophysical', 'Fundraising', 'Belonging', 'Cities', 'HumanCentred', 'CPE', 'MSc/Postgraduate', 'Defence', 'Consulting', '(Sønderborg)', 'ECONOMICS', 'Risk', 'Certificate', 'Biostatistics', 'Child,', '(2year)', 'IC', 'Propulsion', 'Fine', 'Retail', 'topup)', '(Advanced)', 'Matter', 'Species', '4.0', '(Fintech)', '(APS)', 'PgCert,', '(with', 'Mentoring', 'Glaciology', 'Ethnic', 'Bioinnovation', 'Risks', 'Composite', 'Modelling', 'Anatomy', 'Literacy', 'Impact', '(120', 'Aging,', 'MSc/PGCert/PGDip', 'ChineseEnglish', '(postgraduation', 'Late', 'Be\\xadha\\xadviour', 'Virtual', 'Contemporary', 'Innovation)', 'Protection', 'Systems)', 'Promotion', 'Solutions', 'Cultural', 'Neonatal', 'Economies', 'GP', 'Travel', 'Organisational', 'Award', 'Hearing,', 'Literature', '(IMAT)', 'Museum', '(Leuven)', 'Events', '(LEADS)', 'Physics', '(IPAS)', 'Independent', 'School)', 'Logistics,', 'Synthesis', 'PGDip,', 'at', 'Specialisation', 'Offshore,', '(Geographic', 'Environment:', 'Lacustrine', '(Construction', 'Green', 'Laboratory', 'Microbiology)', 'Future', 'Longevity', 'Outcomes', 'Master', '(EMNOnline)', 'Fintech,', 'Transport/', 'DataIntensive', 'Nanobiotechnologies', 'Food', 'Heraldic', 'Compound', 'Bioscience,', 'Protection)', 'MANAGEMENT', 'Urban', 'Erasmus', '(Intelligent', 'Building', '(Brussels)', 'Landscape', '(100%', 'Control', '(Enterprise', 'Bioscience', 'Bioengineering', 'Therapies:', 'Humanitarian', 'Systems', '(Cyber', '(MiM)', 'Transitions', 'Reproductive', 'Astrophysical', '(Learning,', 'Challenges', 'Agroforestry', 'Peacebuilding', 'Commercial', '(PGCert/PGDip/MSc)', \"Masters's\", '(Clinical', '(PGCert', 'Counterterrorism', 'Cultures', 'Genomics', 'Meteorology', 'Climatology', 'Sovereignty', 'Gas)', 'Business', 'Award)', 'Biopharmaceutical', 'Nursing)', 'Adaption', 'Horticultural', 'People', 'Strength', 'Policy', '(ANWM)', 'FastTrack', '(HRDM)', 'contractility', 'Conflicts,', 'Worlds', 'Industrial', 'Food,', 'MSc,', '(Neurosensory', 'Practice:', 'Improvement', 'Loss', 'Geology', 'PgDip,', 'Marketing)', 'Pathology)', 'NonMedical', '(MAHSR)', 'HealthProfessions', 'Expedition', 'Coaching', '(RADMEP)', 'Clinical,', 'Signal', '(MSc/PgDip/PgCert)', 'HRM', 'BioInnovation', '(Rural', 'PG', 'Data', 'Hospitality', 'PreRegistration', 'Mammal', 'Children', 'Therapeutic', 'Plant', 'Stade', 'Transformation', 'campus)', 'Accredited)', '(XHEC)', 'Nature', '2023/2024', 'Medicine:', 'Special', '(CAMH)', 'Islamic', 'Bioeconomy', '(fulltime)', 'Development', 'Journalism', 'Cooperation', 'Urban,', 'Provenance', '(Healthcare)', '(MScDABE)', '(Renewable', 'Translation', 'Repair', 'Government,', 'Theory', 'years', 'Discovery,', 'Environment', '(Dumfries', '(Global)', '(Economics', 'Deep', 'Color', 'Modern', 'cell', 'Microsystems,', 'Pathobiology', 'degrees', 'Connected', '(Critical', '(EESS)', 'Hand', '(BIMDT)', 'Comparative,', 'Politics', 'Facilities', 'dimorphism', '(MBS)', 'BioIntegrated', 'Informatics', 'Nordic', 'Microelectronic', 'Controlling', 'Amputation', 'Artefact', 'Intercultural', 'Psychology:', 'Diplomacy,', '(Intercalated)', 'REACH:', '(Accountancy)', 'Theoretical', 'Extension.', 'Peace,', 'Psychopathology', 'Services)', 'Game', 'HighPerformance', 'ANALYTICS', 'Flood', 'Settlements', 'Neurophysiology', 'Master)', '(DSC)', 'Dental', 'Particles', '(Oneyear', 'DATA', '(CEMS', 'Regulation', 'Animal', 'Emergencies', '(Dual', 'Principles', 'Creative', 'Analytics', '(Sexuality)', 'Media,', 'MSSc', 'Management/Development', 'CUL)', 'Tech', '(Management', 'Psychology,', 'ISS', 'incorporating', '(Musculoskeletal', '(Primary', 'size', 'Environments,', 'Diagnostics', '(Analysis/Toxicology)', 'Durability', 'through', 'PGCert/PgDip/MSc', '(Sexual', '(FAMEAIS)', '(Water', 'Forensic', '(MHA)', 'course', 'Agriculture,', 'Psychiatric', '(full', 'Architectural', 'SystemonChip', 'Languages', 'Outcome', '(BIM)', 'Corporate', 'Ocular', 'Biological', '(Virtual', 'Computational', '(Child)', '(Bruges', 'Bioarchaeology', '(Neuroscience', 'USC)', 'Ergonomics', 'Neuroscience,', 'Decolonial', 'Authenticity', 'Bioprocess', 'Property', 'Leisure', 'Planetary', 'V300', '(Energy.', 'Reparatory', 'BIM', 'Sports', 'Dance', '(ESTP)', 'Bioinformatics', 'Chemistry)', 'animal', 'Environment,', 'Communications)', 'Micromobility', '(MSc/PGCert)', 'Taxonomy', 'Inequalities', 'Tuljapur', 'Aquaculture', 'Spectrum', 'North,', '(Advanced', 'Biology,', 'Translational', 'Veterinary', 'Advertising', 'Cyberspace', 'by', 'And', 'MClinDent', 'Peace', 'Football', 'Biotherapeutics', 'Po', 'City', 'Years', 'Arts/Master', '2030', '(Digitalisation', '(PgDip/MSc)', 'Extension', 'Cognitive', 'Pathways)', 'Resources)', 'Islands', 'High', '(PgCert/PgDip/MSc)', '(Odense)', 'PgDip', 'MLitt/MSc', 'Developmental', 'Assisted', 'Mathematics', 'Management)', 'Ecosystem', 'Software,', '(Managing', 'Research:', 'Biomedicine', 'Drugs', 'Measures', 'Aircraft', 'Genocide', 'LSESciences', 'target', 'Fisheries', 'Level', 'M2', '(Haematology', 'Nuclear', '(ECT+)', 'Inflammatory', 'Ballistics', 'Material', 'Transactional', 'Conflict,', 'Gender', 'Neurodevelopmental', 'award', 'Applicable', 'Catalysis', '(ValueBased)', '(LSEFudan)', '(Campus', '(ACCA)', 'Hospitality,', '(LSEColumbia', 'Private', 'Financed)', 'only)', 'Time)', 'Humanities', 'Pricing)', '(Asset', 'Library', '(Pelvic', 'Rehabilitation', 'Ultrasound', 'Graduate', '(AEIOT)', 'Investigation', 'Cybercrime', 'Appraisal', 'Historic', 'Archaeology:', 'Humanitarianism,', '(Bioarchaeology)', 'African', 'Machine', 'Criminology/Criminal', '(Poverty,', 'Economics,', 'Demolition', 'Pathway)', 'Vehicles', 'Telecommunications', 'Psychotherapy:', 'Psychiatry', '1', 'GeoEnergy', 'Effects', 'Petroleum', 'In', 'Guided', 'Middle', '(Research', '(CEID)', 'STRATEGIC', 'genetic', 'Inclusion,', 'Dementia:', 'Coastal', 'Applications', 'Speech', 'placement)', '(LSEPKU)', 'cells', 'Hazards', 'Infrastructure', 'Biotechnologies)', '(MSQM)', 'Linguistics', 'Cert/PGDip)', 'Gene', 'Archaeology', 'MASTER', 'Econometrics,', 'PeopleCentred', '(CSR', 'Heart', '(in', 'Explosion', 'Patient', 'Geotechnical', 'Mental', 'Leadership)', 'Fluid', '(Modular)', 'Prosperity', 'Storage)', 'Physics)', '(M.Arch)', 'From', 'Photonics', 'Astrophysics', 'Geomatics', 'Ophthalmic', 'Immunology', 'Palliative', 'Musculoskeletal', 'Wave', 'Delivery', 'Drug', 'Embryology', 'Characterisation', 'Life', '(MSc/MRes)', 'Earth', 'Device', '(UKCP', '(Singapore)', 'Weapon', 'available', 'Engagement,', 'Dispute', 'Instructional', 'elearning)', '(VIBOT)', 'Electric', 'Professional', 'Geoinformatics', 'School', '(MSc/PgCert/PgDip)', 'Geochemistry', 'INSURANCE', 'Lakes)', 'Studies)', '(Automotive)', 'Conservation,', '(Aerospace)', 'Medicine', 'Processbased', 'Consumer', 'Assistance', 'Campus)', 'Oceanic', 'Pathology', 'Buildings', 'Analytics)', 'Fund', 'Strategy,', 'Work', 'innovation', 'Logistics', 'Health', '(Postgraduate', 'Financing', 'Children’s', 'Change)', 'LSEPeking', 'GeoInformation', 'specialism)', 'SCADA', 'Training)', '(Leuven', 'Anthropology', 'Universities):', 'Focus', 'Contract', 'Privacy', '(Healthcare', '(Social', 'MSc/PgD/PgC', 'Stroke', 'Deglutology', 'MLE,', 'Trials', 'Interventions', 'Biotechnologies', ':', 'Novel', 'accredited),', '(LSEBocconi)', 'Infrastructures', 'Automation,', 'Reporting', 'Nutritional', '(Extended)', 'Quantitative', 'Forestry)', '(online,', '(MPH)', 'Premodern', 'Engagement', 'MSc/PgC/PgD', 'banking', '(Full', 'Oral', 'mundus)', 'Surgery)', 'Knowledge', '(60', 'Fraud', 'MA', 'Year', 'Strategic', 'World', '(Blended', 'Techniques', 'Globalization', 'Emergency', 'Tourism,', 'Historical', 'Services', '(Archaeology', 'Byzantine', 'Evolution', '(LSEColumbia)', 'Open', 'FINANCE,', 'Economics)', 'MA/MSc/MEnv', 'Infrastructure,', 'Biomaterials', '(ES)', 'Hydrogeology', 'Studies,', 'Forecasting', 'Craft', 'Welding', 'MSc/PGDip/PgCert', 'EE)', '(Self', '(Analgesia', 'Curation', 'Processing:', '(Economic', '(PGCert,', 'Breast', 'Techology', '(General)', 'Algal', 'Diagnostics,', 'Biodiversity,', 'Mngmt', 'Vet', 'American', 'Microelectronics,', 'Networks', 'Track', 'Physical', 'AI', 'Quality,', 'Diagnostic', 'LLM', 'Brain', 'Commercialisation', 'Action', '(ESIoT)', 'Learning', '(MScCGC)', 'Program', 'Electrophysiology', 'Economics/', '(Data', 'Interdisciplinary', 'integrated', 'Neuropsychology', 'Identities', 'Market', 'year', 'Waste', 'Smart', '(Specializing'}\n"
     ]
    }
   ],
   "source": [
    "all_words_set = set()\n",
    "\n",
    "# Function to extract words from a course name and add them to the set\n",
    "def extract_words(course_name):\n",
    "    words = course_name.split()\n",
    "    all_words_set.update(words)\n",
    "\n",
    "# Apply the function to each row in the 'course name' column\n",
    "df_courses['Course Name'].apply(extract_words)\n",
    "\n",
    "\n",
    "print(all_words_set)"
   ],
   "metadata": {
    "collapsed": false,
    "ExecuteTime": {
     "end_time": "2023-11-25T19:06:07.294920800Z",
     "start_time": "2023-11-25T19:06:07.208775500Z"
    }
   },
   "id": "2937966ba5ad64d0"
  },
  {
   "cell_type": "code",
   "execution_count": 52,
   "outputs": [],
   "source": [
    "vocabulary = {}\n",
    "unique_id = 1\n",
    "for word in list(all_words_set):\n",
    "  vocabulary[unique_id] = word.lower()\n",
    "  unique_id += 1"
   ],
   "metadata": {
    "collapsed": false,
    "ExecuteTime": {
     "end_time": "2023-11-25T19:06:07.294920800Z",
     "start_time": "2023-11-25T19:06:07.224601300Z"
    }
   },
   "id": "f8abfe4b201ef9d1"
  },
  {
   "cell_type": "code",
   "execution_count": 33,
   "outputs": [],
   "source": [
    "# Loop through the keys of the vocabulary\n",
    "inverted_index = dict()\n",
    "for i in list(vocabulary.keys()):\n",
    "    inverted_index[i] = []\n",
    "    for index, row in df_courses.iterrows():\n",
    "        if vocabulary[i] in row['coursename_clean']:\n",
    "            inverted_index[i].append(index)"
   ],
   "metadata": {
    "collapsed": false,
    "ExecuteTime": {
     "end_time": "2023-11-25T18:43:41.783651800Z",
     "start_time": "2023-11-25T18:34:35.193077700Z"
    }
   },
   "id": "de98c269654897f4"
  },
  {
   "cell_type": "code",
   "execution_count": 53,
   "outputs": [],
   "source": [
    "\n",
    "def search_documents(split_cn):\n",
    "    result_indices = set()\n",
    "    for term in split_cn:\n",
    "        if term in vocabulary.values():\n",
    "            term_id = [key for key, value in vocabulary.items() if value == term][0]\n",
    "            result_indices.update(inverted_index[term_id])\n",
    "    return result_indices\n"
   ],
   "metadata": {
    "collapsed": false,
    "ExecuteTime": {
     "end_time": "2023-11-25T19:06:07.326716Z",
     "start_time": "2023-11-25T19:06:07.228726Z"
    }
   },
   "id": "adc9859db1dc2588"
  },
  {
   "cell_type": "code",
   "execution_count": null,
   "outputs": [],
   "source": [
    "month_to_number = {\n",
    "    'January': 1, 'February': 2, 'March': 3, 'April': 4, 'May': 5, 'June': 6,\n",
    "    'July': 7, 'August': 8, 'September': 9, 'October': 10, 'November': 11, 'December': 12\n",
    "}\n",
    "\n",
    "# Function to convert month names to numerical values\n",
    "def month_to_number_converter(month_name):\n",
    "    return month_to_number.get(month_name)\n",
    "\n",
    "# Convert the \"Start Date\" column to numerical values in order to make a comparison\n",
    "df_courses['Start Month'] = df_courses['Start Date'].apply(month_to_number_converter)\n"
   ],
   "metadata": {
    "collapsed": false
   },
   "id": "84137ac31e1b8cce"
  },
  {
   "cell_type": "code",
   "execution_count": 4,
   "outputs": [
    {
     "ename": "NameError",
     "evalue": "name 'df_courses' is not defined",
     "output_type": "error",
     "traceback": [
      "\u001B[1;31m---------------------------------------------------------------------------\u001B[0m",
      "\u001B[1;31mNameError\u001B[0m                                 Traceback (most recent call last)",
      "Cell \u001B[1;32mIn[4], line 67\u001B[0m\n\u001B[0;32m     63\u001B[0m     \u001B[38;5;28;01melse\u001B[39;00m:\n\u001B[0;32m     64\u001B[0m         \u001B[38;5;28mprint\u001B[39m(\u001B[38;5;124m\"\u001B[39m\u001B[38;5;124mNo courses match the specified criteria.\u001B[39m\u001B[38;5;124m\"\u001B[39m)\n\u001B[1;32m---> 67\u001B[0m search_eng()\n",
      "Cell \u001B[1;32mIn[4], line 15\u001B[0m, in \u001B[0;36msearch_eng\u001B[1;34m()\u001B[0m\n\u001B[0;32m     12\u001B[0m max_price \u001B[38;5;241m=\u001B[39m \u001B[38;5;28minput\u001B[39m(\u001B[38;5;124m'\u001B[39m\u001B[38;5;124mEnter Maximum Price (press enter to skip): \u001B[39m\u001B[38;5;124m'\u001B[39m)\n\u001B[0;32m     14\u001B[0m \u001B[38;5;66;03m# Apply filters based on user inputs\u001B[39;00m\n\u001B[1;32m---> 15\u001B[0m filtered_courses \u001B[38;5;241m=\u001B[39m df_courses\u001B[38;5;241m.\u001B[39mcopy()\n\u001B[0;32m     17\u001B[0m today \u001B[38;5;241m=\u001B[39m datetime\u001B[38;5;241m.\u001B[39mnow()\n\u001B[0;32m     19\u001B[0m filtered_courses \u001B[38;5;241m=\u001B[39m filtered_courses[filtered_courses[\u001B[38;5;124m'\u001B[39m\u001B[38;5;124mStart Month\u001B[39m\u001B[38;5;124m'\u001B[39m] \u001B[38;5;241m<\u001B[39m\u001B[38;5;241m=\u001B[39m today\u001B[38;5;241m.\u001B[39mmonth]\n",
      "\u001B[1;31mNameError\u001B[0m: name 'df_courses' is not defined"
     ]
    }
   ],
   "source": [
    "import pandas as pd\n",
    "\n",
    "def search_eng():\n",
    "    # Collect user inputs\n",
    "    course_name = input('Enter Course Name (press enter to skip): ').lower()\n",
    "    uni_name = input('Enter University Name (press enter to skip): ').lower()\n",
    "    city = input('Enter City Name (press enter to skip): ').lower()\n",
    "    online = input('Do you need an online modality? Reply with Y or N (press enter to skip): ').lower()\n",
    "\n",
    "    # Default values for price range\n",
    "    min_price = input('Enter Minimum Price (press enter to skip): ')\n",
    "    max_price = input('Enter Maximum Price (press enter to skip): ')\n",
    "    \n",
    "    # Apply filters based on user inputs\n",
    "    filtered_courses = df_courses.copy()\n",
    "    \n",
    "    today = datetime.now()\n",
    "\n",
    "    filtered_courses = filtered_courses[filtered_courses['Start Month'] <= today.month]\n",
    "\n",
    "# Sort the DataFrame by the courses that have already started \n",
    "    filtered_courses= filtered_courses.sort_values(by='Start Month')\n",
    "\n",
    "\n",
    "    filtered_courses = filtered_courses.drop(columns=['Start Month'])\n",
    "\n",
    "    if course_name:\n",
    "        course_name_split = set(course_name.split())\n",
    "        course_indices = search_documents(course_name_split)\n",
    "        filtered_courses = filtered_courses.loc[list(course_indices)]\n",
    "\n",
    "    if uni_name:\n",
    "        uni_name_lower = uni_name.lower()\n",
    "        filtered_courses = filtered_courses[filtered_courses['uni_name_clean'].str.contains(uni_name_lower)]\n",
    "\n",
    "    if city:\n",
    "        city_lower = city.lower()\n",
    "        filtered_courses = filtered_courses[filtered_courses['city_lowered'].str.contains(city_lower)]\n",
    "\n",
    "  \n",
    "    filtered_courses['fees (£)'] = filtered_courses['fees (£)'].apply(lambda x: x if pd.notna(x) and str(x).replace('.', '', 1).isdigit() else 'Refer to university website for fees')\n",
    "\n",
    "    # Filter based on price range\n",
    "    if min_price and max_price:\n",
    "        # Exclude courses with 'Refer to university website for fees' if user provides a fee range\n",
    "        filtered_courses = filtered_courses[(filtered_courses['fees (£)'] != 'Refer to university website for fees') & (filtered_courses['fees (£)'] >= int(min_price)) & (filtered_courses['fees (£)'] <= int(max_price))]\n",
    "    elif min_price:\n",
    "        filtered_courses = filtered_courses[(filtered_courses['fees (£)'] != 'Refer to university website for fees') & (filtered_courses['fees (£)'] >= int(min_price))]\n",
    "    elif max_price:\n",
    "        filtered_courses = filtered_courses[(filtered_courses['fees (£)'] != 'Refer to university website for fees') & (filtered_courses['fees (£)'] <= int(max_price))]\n",
    "\n",
    "    if online == 'y':\n",
    "        filtered_courses = filtered_courses[filtered_courses['administration'].str.contains('online', case=False)]\n",
    "    elif online == 'n':\n",
    "        filtered_courses = filtered_courses[~filtered_courses['administration'].str.contains('online', case=False)]\n",
    "\n",
    "  \n",
    "    if not filtered_courses.empty:\n",
    "        result_columns = ['Course Name', 'University Name', 'Link']\n",
    "        print(\"Filtered courses:\")\n",
    "        print(filtered_courses[result_columns])\n",
    "    else:\n",
    "        print(\"No courses match the specified criteria.\")\n",
    "\n",
    "\n",
    "search_eng()\n"
   ],
   "metadata": {
    "collapsed": false,
    "ExecuteTime": {
     "end_time": "2023-11-26T14:34:15.282772Z",
     "start_time": "2023-11-26T14:34:09.700449200Z"
    }
   },
   "id": "b40d2eb3241594ab"
  }
 ],
 "metadata": {
  "kernelspec": {
   "display_name": "Python 3",
   "language": "python",
   "name": "python3"
  },
  "language_info": {
   "codemirror_mode": {
    "name": "ipython",
    "version": 2
   },
   "file_extension": ".py",
   "mimetype": "text/x-python",
   "name": "python",
   "nbconvert_exporter": "python",
   "pygments_lexer": "ipython2",
   "version": "2.7.6"
  }
 },
 "nbformat": 4,
 "nbformat_minor": 5
}
